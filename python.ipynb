{
  "nbformat": 4,
  "nbformat_minor": 0,
  "metadata": {
    "colab": {
      "name": "python.ipynb",
      "provenance": [],
      "collapsed_sections": [
        "n5MK9vqy35KH",
        "4akKr1t12nkg",
        "2Ssg4vX4HMis",
        "Y9f2M8JGKE9j",
        "y2H-de20S-fv",
        "EOOjuGekwPRa",
        "okVHFHflKGxJ"
      ],
      "toc_visible": true,
      "authorship_tag": "ABX9TyNHRrMX2Ym17mXESw5oYm55",
      "include_colab_link": true
    },
    "kernelspec": {
      "name": "python3",
      "display_name": "Python 3"
    }
  },
  "cells": [
    {
      "cell_type": "markdown",
      "metadata": {
        "id": "view-in-github",
        "colab_type": "text"
      },
      "source": [
        "<a href=\"https://colab.research.google.com/github/KritzHeng/Python-BasicForThai/blob/main/python.ipynb\" target=\"_parent\"><img src=\"https://colab.research.google.com/assets/colab-badge.svg\" alt=\"Open In Colab\"/></a>"
      ]
    },
    {
      "cell_type": "markdown",
      "metadata": {
        "id": "n5MK9vqy35KH"
      },
      "source": [
        "#**\"Hello World\"**"
      ]
    },
    {
      "cell_type": "code",
      "metadata": {
        "id": "mPBQSdp14Czv",
        "colab": {
          "base_uri": "https://localhost:8080/",
          "height": 34
        },
        "outputId": "16afa224-f8e4-4029-fc4e-5b38c3173dde"
      },
      "source": [
        "print(\"Hello Wolrd\")"
      ],
      "execution_count": null,
      "outputs": [
        {
          "output_type": "stream",
          "text": [
            "Hello Wolrd\n"
          ],
          "name": "stdout"
        }
      ]
    },
    {
      "cell_type": "markdown",
      "metadata": {
        "id": "c9afOegj2lKl"
      },
      "source": [
        "# variable (ตัวแปร)\n"
      ]
    },
    {
      "cell_type": "markdown",
      "metadata": {
        "id": "OMfKJ4yIBMqN"
      },
      "source": [
        "\n",
        "\n",
        "```\n",
        "แปรจะขึ้นด้วยตัวพิมพ์ใหญ่หรือเล็กก็ได้\n",
        "```\n",
        "\n"
      ]
    },
    {
      "cell_type": "code",
      "metadata": {
        "id": "DJxmcXpoDtcv",
        "colab": {
          "base_uri": "https://localhost:8080/",
          "height": 50
        },
        "outputId": "f857cc42-5bc0-4abe-e57b-ac4bb44d79a8"
      },
      "source": [
        "a = 10\n",
        "Student = \"boy\"\n",
        "print(a)\n",
        "print(Student)"
      ],
      "execution_count": null,
      "outputs": [
        {
          "output_type": "stream",
          "text": [
            "10\n",
            "boy\n"
          ],
          "name": "stdout"
        }
      ]
    },
    {
      "cell_type": "markdown",
      "metadata": {
        "id": "inBlELACCLzO"
      },
      "source": [
        "\n",
        "\n",
        "```\n",
        "ไม่สามารถขึ้นต้นด้วย ตัวเลขและสัญลักษณ์ ยกเว้น _\n",
        "```\n"
      ]
    },
    {
      "cell_type": "code",
      "metadata": {
        "id": "3e_ZjLiSCFGe",
        "colab": {
          "base_uri": "https://localhost:8080/",
          "height": 128
        },
        "outputId": "9a6c867d-ed28-4615-89dc-4fcef13a7889"
      },
      "source": [
        "@b12 = 50"
      ],
      "execution_count": null,
      "outputs": [
        {
          "output_type": "error",
          "ename": "SyntaxError",
          "evalue": "ignored",
          "traceback": [
            "\u001b[0;36m  File \u001b[0;32m\"<ipython-input-65-e493d87b8783>\"\u001b[0;36m, line \u001b[0;32m1\u001b[0m\n\u001b[0;31m    @b12 =50\u001b[0m\n\u001b[0m         ^\u001b[0m\n\u001b[0;31mSyntaxError\u001b[0m\u001b[0;31m:\u001b[0m invalid syntax\n"
          ]
        }
      ]
    },
    {
      "cell_type": "code",
      "metadata": {
        "id": "eTRsvIXtB5M6",
        "colab": {
          "base_uri": "https://localhost:8080/",
          "height": 128
        },
        "outputId": "e0da86b2-78da-4c67-df16-23dc7a4f298a"
      },
      "source": [
        "12a = 10"
      ],
      "execution_count": null,
      "outputs": [
        {
          "output_type": "error",
          "ename": "SyntaxError",
          "evalue": "ignored",
          "traceback": [
            "\u001b[0;36m  File \u001b[0;32m\"<ipython-input-64-9fd29db7a785>\"\u001b[0;36m, line \u001b[0;32m1\u001b[0m\n\u001b[0;31m    12a = 10 #ไม่สามารถขึ้นต้นด้วย ตัวเลขและสัญลักษณ์ ยกเว้น _\u001b[0m\n\u001b[0m      ^\u001b[0m\n\u001b[0;31mSyntaxError\u001b[0m\u001b[0;31m:\u001b[0m invalid syntax\n"
          ]
        }
      ]
    },
    {
      "cell_type": "code",
      "metadata": {
        "id": "HPpN2DCTKVB6",
        "colab": {
          "base_uri": "https://localhost:8080/",
          "height": 33
        },
        "outputId": "ad41609e-470a-42f1-9b51-9c649db13310"
      },
      "source": [
        "_if = 10\n",
        "print(_if)"
      ],
      "execution_count": null,
      "outputs": [
        {
          "output_type": "stream",
          "text": [
            "10\n"
          ],
          "name": "stdout"
        }
      ]
    },
    {
      "cell_type": "markdown",
      "metadata": {
        "id": "xHSdVjk-C3uY"
      },
      "source": [
        "\n",
        "\n",
        "```\n",
        "ห้ามตั้งชื่อที่ตรงกับ keyword คำสั่งที่มีอยู่ใน\n",
        "```"
      ]
    },
    {
      "cell_type": "code",
      "metadata": {
        "id": "_N3fHrdxCDoO",
        "colab": {
          "base_uri": "https://localhost:8080/",
          "height": 128
        },
        "outputId": "7c6976bd-c339-4575-ee6b-3f7df0716ce0"
      },
      "source": [
        "if = 10"
      ],
      "execution_count": null,
      "outputs": [
        {
          "output_type": "error",
          "ename": "SyntaxError",
          "evalue": "ignored",
          "traceback": [
            "\u001b[0;36m  File \u001b[0;32m\"<ipython-input-68-563084b3e606>\"\u001b[0;36m, line \u001b[0;32m1\u001b[0m\n\u001b[0;31m    if = 10\u001b[0m\n\u001b[0m       ^\u001b[0m\n\u001b[0;31mSyntaxError\u001b[0m\u001b[0;31m:\u001b[0m invalid syntax\n"
          ]
        }
      ]
    },
    {
      "cell_type": "markdown",
      "metadata": {
        "id": "57rUsgxDDbkE"
      },
      "source": [
        "\n",
        "```\n",
        "case sensitive\n",
        "```\n"
      ]
    },
    {
      "cell_type": "code",
      "metadata": {
        "id": "Qm3f_EA_C2eE",
        "colab": {
          "base_uri": "https://localhost:8080/",
          "height": 67
        },
        "outputId": "4a2bc5bb-1f51-4f73-c912-ab417786d9eb"
      },
      "source": [
        "name = \"A\"\n",
        "NAME = \"B\"\n",
        "nAmE = \"C\"\n",
        "\n",
        "print(\"name = \"+name)\n",
        "print(\"NAME = \"+NAME)\n",
        "print(\"nAmE = \"+nAmE)"
      ],
      "execution_count": null,
      "outputs": [
        {
          "output_type": "stream",
          "text": [
            "name = A\n",
            "NAME = B\n",
            "nAmE = C\n"
          ],
          "name": "stdout"
        }
      ]
    },
    {
      "cell_type": "code",
      "metadata": {
        "id": "LgZWdX-p25jD",
        "colab": {
          "base_uri": "https://localhost:8080/",
          "height": 33
        },
        "outputId": "e141f159-8281-4bc2-b026-5e124b35161f"
      },
      "source": [
        "a = 10\n",
        "b = 20\n",
        "print(a)"
      ],
      "execution_count": null,
      "outputs": [
        {
          "output_type": "stream",
          "text": [
            "10\n"
          ],
          "name": "stdout"
        }
      ]
    },
    {
      "cell_type": "code",
      "metadata": {
        "id": "C6ciGaW83DBf",
        "colab": {
          "base_uri": "https://localhost:8080/",
          "height": 33
        },
        "outputId": "a1bce497-0f0c-4f0d-cd7b-9212782a6bf9"
      },
      "source": [
        "print(a+b)"
      ],
      "execution_count": null,
      "outputs": [
        {
          "output_type": "stream",
          "text": [
            "30\n"
          ],
          "name": "stdout"
        }
      ]
    },
    {
      "cell_type": "code",
      "metadata": {
        "id": "QNXG9sIjnfur",
        "colab": {
          "base_uri": "https://localhost:8080/",
          "height": 34
        },
        "outputId": "3500673a-2ec1-4041-e36a-ec07339bb664"
      },
      "source": [
        "c=a+b\n",
        "print(c)"
      ],
      "execution_count": null,
      "outputs": [
        {
          "output_type": "stream",
          "text": [
            "30\n"
          ],
          "name": "stdout"
        }
      ]
    },
    {
      "cell_type": "code",
      "metadata": {
        "id": "CDjLCSd2Ro4A"
      },
      "source": [
        "text = \"Hello World\"\n",
        "print(text)"
      ],
      "execution_count": null,
      "outputs": []
    },
    {
      "cell_type": "code",
      "metadata": {
        "id": "eJblw7sNR1Gm",
        "colab": {
          "base_uri": "https://localhost:8080/",
          "height": 33
        },
        "outputId": "c24b2933-7573-4a8f-8c71-74546dde5f30"
      },
      "source": [
        "money = 100\n",
        "text1 = \"I have\"\n",
        "ba = \"bath.\"\n",
        "print(text1, money, ba)"
      ],
      "execution_count": null,
      "outputs": [
        {
          "output_type": "stream",
          "text": [
            "I have 100 bath.\n"
          ],
          "name": "stdout"
        }
      ]
    },
    {
      "cell_type": "markdown",
      "metadata": {
        "id": "f7tJJeY0mCT3"
      },
      "source": [
        "\n",
        "## Data types (ประเภทตัวแปร)"
      ]
    },
    {
      "cell_type": "code",
      "metadata": {
        "id": "E3e9RPWR3UEn",
        "colab": {
          "base_uri": "https://localhost:8080/"
        },
        "outputId": "f9472265-bbf1-4bb8-f039-3631b113285e"
      },
      "source": [
        "a = 10  # int \n",
        "b = 10.0  #float\n",
        "c = \"Hello\" # string\n",
        "d = [1,2,3,4,5] #list \n",
        "e = True # bool\n",
        "\n",
        "print(type(a))\n",
        "print(type(b))\n",
        "print(type(c))\n",
        "print(type(d))\n",
        "print(type(e))"
      ],
      "execution_count": null,
      "outputs": [
        {
          "output_type": "stream",
          "text": [
            "<class 'int'>\n",
            "<class 'float'>\n",
            "<class 'str'>\n",
            "<class 'list'>\n",
            "<class 'bool'>\n"
          ],
          "name": "stdout"
        }
      ]
    },
    {
      "cell_type": "code",
      "metadata": {
        "id": "-j_ONeMtmf34",
        "colab": {
          "base_uri": "https://localhost:8080/"
        },
        "outputId": "613b720e-d239-4d9d-dd54-249ef4842ead"
      },
      "source": [
        "p = 10\n",
        "print(\"p =\",p,type(p))\n",
        "p = float(p)\n",
        "print(\"p =\",p,type(p))"
      ],
      "execution_count": null,
      "outputs": [
        {
          "output_type": "stream",
          "text": [
            "p = 10 <class 'int'>\n",
            "p = 10.0 <class 'float'>\n"
          ],
          "name": "stdout"
        }
      ]
    },
    {
      "cell_type": "code",
      "metadata": {
        "id": "n5mmLccOg-mm",
        "colab": {
          "base_uri": "https://localhost:8080/",
          "height": 67
        },
        "outputId": "3cea075d-79c3-4c8c-b402-72c74094848d"
      },
      "source": [
        "a = 5    #int\n",
        "b = 10.5 #float\n",
        "c=a+b\n",
        "print(type(a))\n",
        "print(type(b))\n",
        "print(type(c),\"\\t\",c) # type convertion"
      ],
      "execution_count": null,
      "outputs": [
        {
          "output_type": "stream",
          "text": [
            "<class 'int'>\n",
            "<class 'float'>\n",
            "<class 'float'> \t 15.5\n"
          ],
          "name": "stdout"
        }
      ]
    },
    {
      "cell_type": "markdown",
      "metadata": {
        "id": "vr3PySZU27kK"
      },
      "source": [
        ""
      ]
    },
    {
      "cell_type": "code",
      "metadata": {
        "id": "msauIBP6EVqN",
        "colab": {
          "base_uri": "https://localhost:8080/",
          "height": 84
        },
        "outputId": "c536d8ea-ce06-4a10-be48-6fbf5901e404"
      },
      "source": [
        "a = \"123\"\n",
        "print(type(a))\n",
        "print(a * 3)\n",
        "a = int(a) # string --> int\n",
        "print(type(a))\n",
        "print(a * 3)"
      ],
      "execution_count": null,
      "outputs": [
        {
          "output_type": "stream",
          "text": [
            "<class 'str'>\n",
            "123123123\n",
            "<class 'str'>\n",
            "123123123\n"
          ],
          "name": "stdout"
        }
      ]
    },
    {
      "cell_type": "code",
      "metadata": {
        "id": "M-8X1UoqHZjJ",
        "colab": {
          "base_uri": "https://localhost:8080/",
          "height": 33
        },
        "outputId": "14fad474-33d7-4131-b21e-6c79254f3d24"
      },
      "source": [
        "x = 10\n",
        "y = \"123456\"\n",
        "print(str(x)+y) # int --> string"
      ],
      "execution_count": null,
      "outputs": [
        {
          "output_type": "stream",
          "text": [
            "10123456\n"
          ],
          "name": "stdout"
        }
      ]
    },
    {
      "cell_type": "markdown",
      "metadata": {
        "id": "s05sCviBkKlu"
      },
      "source": [
        "## string variable (ตัวแปรตัวอักษร)"
      ]
    },
    {
      "cell_type": "markdown",
      "metadata": {
        "id": "H92Tihm_LvXD"
      },
      "source": [
        "ในpython สามารถทำให้ตัวแปรเก็บค่าเป็น string ได้ด้วย \" \" , ' ' , ''' '''\n",
        "```\n",
        "เช่น \n",
        "```"
      ]
    },
    {
      "cell_type": "code",
      "metadata": {
        "id": "ZL9TzZelMVn6"
      },
      "source": [
        ""
      ],
      "execution_count": null,
      "outputs": []
    },
    {
      "cell_type": "code",
      "metadata": {
        "id": "_p7qH-kmMFZl",
        "colab": {
          "base_uri": "https://localhost:8080/",
          "height": 67
        },
        "outputId": "ac82a363-53d5-4a64-b04b-bad787bc022d"
      },
      "source": [
        "text1 = \"First\"\n",
        "text2 = 'Second'\n",
        "text3 = '''Third'''\n",
        "print(text1)\n",
        "print(text2)\n",
        "print(text3)"
      ],
      "execution_count": null,
      "outputs": [
        {
          "output_type": "stream",
          "text": [
            "First\n",
            "Second\n",
            "Third\n"
          ],
          "name": "stdout"
        }
      ]
    },
    {
      "cell_type": "code",
      "metadata": {
        "id": "OhmbAq_wMeTb"
      },
      "source": [
        "a = \"I'm fine. Thank you.\""
      ],
      "execution_count": null,
      "outputs": []
    },
    {
      "cell_type": "code",
      "metadata": {
        "id": "dhauScjs3Zyc",
        "colab": {
          "base_uri": "https://localhost:8080/",
          "height": 34
        },
        "outputId": "49141da3-6497-4cf7-8463-0c24e151fd50"
      },
      "source": [
        "a = \"hello\"\n",
        "b = \"world\"\n",
        "print(a,b)"
      ],
      "execution_count": null,
      "outputs": [
        {
          "output_type": "stream",
          "text": [
            "helloworld\n"
          ],
          "name": "stdout"
        }
      ]
    },
    {
      "cell_type": "code",
      "metadata": {
        "id": "Gk7Cd-CN4JF1",
        "colab": {
          "base_uri": "https://localhost:8080/",
          "height": 33
        },
        "outputId": "0a04e7b2-7829-4a41-ae2c-b78412b1e8f7"
      },
      "source": [
        "print(a+b)  # เป็นการนำมาต่อกันของ string"
      ],
      "execution_count": null,
      "outputs": [
        {
          "output_type": "stream",
          "text": [
            "helloworld\n"
          ],
          "name": "stdout"
        }
      ]
    },
    {
      "cell_type": "code",
      "metadata": {
        "id": "Wh9NGmnW5Utd"
      },
      "source": [
        "print(a - b)"
      ],
      "execution_count": null,
      "outputs": []
    },
    {
      "cell_type": "code",
      "metadata": {
        "id": "mpN-Iofy5RG3"
      },
      "source": [
        "print(a / 3)"
      ],
      "execution_count": null,
      "outputs": []
    },
    {
      "cell_type": "code",
      "metadata": {
        "id": "IbaQXhd44mG8",
        "colab": {
          "base_uri": "https://localhost:8080/",
          "height": 178
        },
        "outputId": "94183e67-5bee-4f8f-a4f8-19f70bc334b1"
      },
      "source": [
        "text = \"Hello\"\n",
        "print(text+3)"
      ],
      "execution_count": null,
      "outputs": [
        {
          "output_type": "error",
          "ename": "TypeError",
          "evalue": "ignored",
          "traceback": [
            "\u001b[0;31m---------------------------------------------------------------------------\u001b[0m",
            "\u001b[0;31mTypeError\u001b[0m                                 Traceback (most recent call last)",
            "\u001b[0;32m<ipython-input-1-d0449dcb1629>\u001b[0m in \u001b[0;36m<module>\u001b[0;34m()\u001b[0m\n\u001b[1;32m      1\u001b[0m \u001b[0mtext\u001b[0m \u001b[0;34m=\u001b[0m \u001b[0;34m\"Hello\"\u001b[0m\u001b[0;34m\u001b[0m\u001b[0;34m\u001b[0m\u001b[0m\n\u001b[0;32m----> 2\u001b[0;31m \u001b[0mprint\u001b[0m\u001b[0;34m(\u001b[0m\u001b[0mtext\u001b[0m\u001b[0;34m+\u001b[0m\u001b[0;36m3\u001b[0m\u001b[0;34m)\u001b[0m\u001b[0;34m\u001b[0m\u001b[0;34m\u001b[0m\u001b[0m\n\u001b[0m",
            "\u001b[0;31mTypeError\u001b[0m: must be str, not int"
          ]
        }
      ]
    },
    {
      "cell_type": "code",
      "metadata": {
        "id": "zg2lk1iM5HM5",
        "colab": {
          "base_uri": "https://localhost:8080/",
          "height": 33
        },
        "outputId": "f53e977a-91b8-42cd-819a-92541a069108"
      },
      "source": [
        "print(a * 3)"
      ],
      "execution_count": null,
      "outputs": [
        {
          "output_type": "stream",
          "text": [
            "hellohellohello\n"
          ],
          "name": "stdout"
        }
      ]
    },
    {
      "cell_type": "code",
      "metadata": {
        "id": "clEq6ysy4rfE",
        "colab": {
          "base_uri": "https://localhost:8080/",
          "height": 33
        },
        "outputId": "f88e7339-2b7b-4ccc-f0a8-8123044769bd"
      },
      "source": [
        "text1 = \"Hello, \"\n",
        "text2=\"How are you?\"\n",
        "print(text1 + text2)"
      ],
      "execution_count": null,
      "outputs": [
        {
          "output_type": "stream",
          "text": [
            "Hello, How are you?\n"
          ],
          "name": "stdout"
        }
      ]
    },
    {
      "cell_type": "code",
      "metadata": {
        "id": "sooM8uUuE2Ap",
        "colab": {
          "base_uri": "https://localhost:8080/",
          "height": 33
        },
        "outputId": "5b81377f-b6fd-4103-f805-fa20a117ae95"
      },
      "source": [
        "a = \"123\"\n",
        "b = \"456\"\n",
        "print(a + b)"
      ],
      "execution_count": null,
      "outputs": [
        {
          "output_type": "stream",
          "text": [
            "123456\n"
          ],
          "name": "stdout"
        }
      ]
    },
    {
      "cell_type": "markdown",
      "metadata": {
        "id": "TINDPCybly51"
      },
      "source": [
        "#Python Operators ตัวดำเนินการ"
      ]
    },
    {
      "cell_type": "markdown",
      "metadata": {
        "id": "MyUtEgd0ejLS"
      },
      "source": [
        "https://sites.google.com/site/khxmphiwtexrm5/hnwy-kar-reiyn-ru2/niphcn-expression"
      ]
    },
    {
      "cell_type": "markdown",
      "metadata": {
        "id": "uT9GTFZBPZ-6"
      },
      "source": [
        "##Arithmetic Operators"
      ]
    },
    {
      "cell_type": "code",
      "metadata": {
        "id": "C6S6jW3LQNvR",
        "colab": {
          "base_uri": "https://localhost:8080/"
        },
        "outputId": "2761a84f-cc78-4c2e-93dd-7d79e49e8320"
      },
      "source": [
        "x = 10 \n",
        "y = 2 \n",
        "print(\"x + y  =\",x + y) #ผลบวก\n",
        "print(\"x - y  =\",x - y) #ผลลบ\n",
        "print(\"x * y  =\",x * y) #ผลหาร\n",
        "print(\"x / y  =\",x / y)  #ผลหาร\n",
        "print(\"x ** y =\",x ** y) #ยกกำลัง\n",
        "print(\"x // y =\",x // y) #หารปัดเศษ\n",
        "print(\"x % y  =\",x % y)  #หารเอาเศษ"
      ],
      "execution_count": null,
      "outputs": [
        {
          "output_type": "stream",
          "text": [
            "x + y  = 12\n",
            "x - y  = 8\n",
            "x * y  = 20\n",
            "x / y  = 5.0\n",
            "x ** y = 100\n",
            "x // y = 5\n",
            "x % y  = 0\n"
          ],
          "name": "stdout"
        }
      ]
    },
    {
      "cell_type": "markdown",
      "metadata": {
        "id": "afq8xaT2mPzg"
      },
      "source": [
        "##Assignment Operators"
      ]
    },
    {
      "cell_type": "code",
      "metadata": {
        "id": "tpvxyeRKmPFj",
        "colab": {
          "base_uri": "https://localhost:8080/"
        },
        "outputId": "d165bf92-048f-42a7-abf0-a7ddb609d610"
      },
      "source": [
        "x = 5 \n",
        "print(\"x   =\",x)\n",
        "x += 2\n",
        "print(x,\"  = x + 2\")\n",
        "x -= 2\n",
        "print(x,\"  = x - 2\")\n",
        "x *= 2\n",
        "print(x,\" = x * 2\")\n",
        "x /= 2\n",
        "print(x,\"= x / 2\")\n",
        "x %= 2\n",
        "print(x,\"= x % 2\")\n",
        "x //2\n",
        "print(x,\"= x // 2\")\n",
        "x **= 2\n",
        "print(x,\"=   x ** 2\")\n",
        "\n",
        "\n",
        "\n"
      ],
      "execution_count": null,
      "outputs": [
        {
          "output_type": "stream",
          "text": [
            "x   = 5\n",
            "7   = x + 2\n",
            "5   = x - 2\n",
            "10  = x * 2\n",
            "5.0 = x / 2\n",
            "1.0 = x % 2\n",
            "1.0 = x // 2\n",
            "1.0 =   x ** 2\n"
          ],
          "name": "stdout"
        }
      ]
    },
    {
      "cell_type": "markdown",
      "metadata": {
        "id": "inY8RwMlOlfh"
      },
      "source": [
        "**ใน python3 int หาร int จะได้ float **"
      ]
    },
    {
      "cell_type": "code",
      "metadata": {
        "id": "7j3h_xMEvW93",
        "colab": {
          "base_uri": "https://localhost:8080/"
        },
        "outputId": "ffa2aa06-2107-4357-d699-8067fd0146f2"
      },
      "source": [
        "x = 5 #reset ค่า x = 5\n",
        "x &= 3\n",
        "print(x,\"= x & 3\")\n",
        "x = 5 #reset ค่า x = 5\n",
        "x |= 3\n",
        "print(x,\"= x | 3\")\n",
        "x = 5 #reset ค่า x = 5\n",
        "x ^= 3\n",
        "print(x,\"= x ^ 3\")\n",
        "x = 5 #reset ค่า x = 5\n",
        "x >>= 3\n",
        "print(x,\"= x >> 3\")\n",
        "x = 5 #reset ค่า x = 5\n",
        "x <<= 3\n",
        "print(x,\"= x << 3\")"
      ],
      "execution_count": null,
      "outputs": [
        {
          "output_type": "stream",
          "text": [
            "1 = x & 3\n",
            "7 = x | 3\n",
            "6 = x ^ 3\n",
            "0 = x >> 3\n",
            "40 = x << 3\n"
          ],
          "name": "stdout"
        }
      ]
    },
    {
      "cell_type": "markdown",
      "metadata": {
        "id": "fywFFFDDmPx0"
      },
      "source": [
        "##Bitwise Operators"
      ]
    },
    {
      "cell_type": "markdown",
      "metadata": {
        "id": "BA4GPa0GO3bj"
      },
      "source": [
        "ใช้ หลักตรรกศาสตร์กับเลขฐาน\n",
        "\n",
        "---\n",
        " เช่น \n",
        "\n",
        "\n",
        "     T และ T เป็น T ( T & T = T) // 1 & 1 = 1\n",
        "     F หรือ T เป็น F ( F | T = T) // 0 & 1 = 1"
      ]
    },
    {
      "cell_type": "markdown",
      "metadata": {
        "id": "l4vSPIAqrWth"
      },
      "source": [
        "\n",
        "* [ &,AND] \n",
        "* [ |,OR] \n",
        "* [ ^,XOR] \n",
        "\n",
        "* [ ~ NOT]\n",
        "* [ <<Zero fill letf shift]\n",
        "* [ >> Signed right shift] \n"
      ]
    },
    {
      "cell_type": "markdown",
      "metadata": {
        "id": "JKtlYX6lrWr3"
      },
      "source": [
        "##Logical Operators\n",
        "\n",
        "\n",
        "*   and\n",
        "*   or\n",
        "*   not\n",
        "\n",
        "\n",
        "\n"
      ]
    },
    {
      "cell_type": "code",
      "metadata": {
        "id": "pzpUhzPxrU14",
        "colab": {
          "base_uri": "https://localhost:8080/"
        },
        "outputId": "8806997a-1446-48cb-d942-e9b91745743d"
      },
      "source": [
        "x = 5\n",
        "print(x > 3 and x < 10)  #  T and T = T\n",
        "print(x > 3 or x < 4)    #  T  or F = T\n",
        "print(not(x > 3 and x< 10))  # not(T) = F"
      ],
      "execution_count": null,
      "outputs": [
        {
          "output_type": "stream",
          "text": [
            "True\n",
            "True\n",
            "False\n"
          ],
          "name": "stdout"
        }
      ]
    },
    {
      "cell_type": "markdown",
      "metadata": {
        "id": "eSQYyEqDJu5y"
      },
      "source": [
        "##Identity, Membership Operators"
      ]
    },
    {
      "cell_type": "code",
      "metadata": {
        "id": "G0pL-1PPJ4UC",
        "colab": {
          "base_uri": "https://localhost:8080/"
        },
        "outputId": "77e96f46-fd17-4baa-8ff9-909ab386a2c9"
      },
      "source": [
        "text1 = [\"asc\",\"abc\"] #list\n",
        "print('''\"asc\" in text1 =''',\"asc\" in text1) \n",
        "text2 = \"abcd\"  #string\n",
        "print('''\"a\" in text2   =''',\"a\" in text2)\n",
        "\n",
        "numstr = \"123\"\n",
        "num = \"3\"\n",
        "print('''num in numstr  =''',num in numstr)\n",
        "\n",
        "a = [1,2,3,4]\n",
        "b = 2\n",
        "print('''b in a         =''',b in a)\n"
      ],
      "execution_count": null,
      "outputs": [
        {
          "output_type": "stream",
          "text": [
            "\"asc\" in text1 = True\n",
            "\"a\" in text2   = True\n",
            "num in numstr  = True\n",
            "b in a         = True\n"
          ],
          "name": "stdout"
        }
      ]
    },
    {
      "cell_type": "code",
      "metadata": {
        "id": "uFaM62dUMtyZ",
        "colab": {
          "base_uri": "https://localhost:8080/"
        },
        "outputId": "58b17e06-d082-4475-9a43-f888ba61cb37"
      },
      "source": [
        "a = 10\n",
        "b = 5\n",
        "c = 15\n",
        "d = a+b\n",
        "print(d is c) # 15 is 15 = True\n",
        "print(not(d is c))"
      ],
      "execution_count": null,
      "outputs": [
        {
          "output_type": "stream",
          "text": [
            "True\n",
            "False\n"
          ],
          "name": "stdout"
        }
      ]
    },
    {
      "cell_type": "markdown",
      "metadata": {
        "id": "jM523419ZN7H"
      },
      "source": [
        "##Comparison Operators\n",
        "\n",
        "```\n",
        "เป็นการเปรียบเทียบค่า2ค่า ด้วยออกมาเป็นboolean True, False\n",
        "```\n",
        "\n"
      ]
    },
    {
      "cell_type": "code",
      "metadata": {
        "id": "7yTp9UXYZb7a",
        "colab": {
          "base_uri": "https://localhost:8080/"
        },
        "outputId": "56810d27-cc7b-4b86-ec55-f497e0624681"
      },
      "source": [
        "a = 10\n",
        "b = 5\n",
        "print(\"a =\",a,\"\\nb =\",b)\n",
        "print(\"a == b =\",a == b) # 10 == 5\n",
        "print(\"a != b =\",a != b) # 10 != 5\n",
        "print(\"a >  b =\",a > b)  # 10 >  5\n",
        "print(\"a <  b =\",a < b)  # 10 <  5\n",
        "print(\"a >= b =\",a >= b) # 10 >= 5\n",
        "print(\"a <= b =\",a <= b) # 10 <= 5"
      ],
      "execution_count": null,
      "outputs": [
        {
          "output_type": "stream",
          "text": [
            "a = 10 \n",
            "b = 5\n",
            "a == b = False\n",
            "a != b = True\n",
            "a >  b = True\n",
            "a <  b = False\n",
            "a >= b = True\n",
            "a <= b = False\n"
          ],
          "name": "stdout"
        }
      ]
    },
    {
      "cell_type": "markdown",
      "metadata": {
        "id": "jbbUc_8IYQg-"
      },
      "source": [
        "#Conditions and If statements"
      ]
    },
    {
      "cell_type": "markdown",
      "metadata": {
        "id": "2DAYsIpsdtFc"
      },
      "source": [
        "## **If Else**"
      ]
    },
    {
      "cell_type": "markdown",
      "metadata": {
        "id": "MBfnQK1BY1M2"
      },
      "source": [
        "![if else.png](data:image/png;base64,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)"
      ]
    },
    {
      "cell_type": "code",
      "metadata": {
        "id": "hpx6fxhXYQNj",
        "colab": {
          "base_uri": "https://localhost:8080/",
          "height": 33
        },
        "outputId": "95231834-1803-484b-94f5-436b493678be"
      },
      "source": [
        "a = 10 \n",
        "if a == 10 :\n",
        "  print(\"True\")\n",
        "else :\n",
        "  print(\"False\")"
      ],
      "execution_count": null,
      "outputs": [
        {
          "output_type": "stream",
          "text": [
            "True\n"
          ],
          "name": "stdout"
        }
      ]
    },
    {
      "cell_type": "code",
      "metadata": {
        "id": "xoL8P64qZFnz",
        "colab": {
          "base_uri": "https://localhost:8080/",
          "height": 33
        },
        "outputId": "cf8ead8a-c71d-441f-b05b-4dd0ae88ae57"
      },
      "source": [
        "a = 55 \n",
        "b = 60\n",
        "if a == b :\n",
        "  print(\"True\")\n",
        "else :\n",
        "  print(\"False\")"
      ],
      "execution_count": null,
      "outputs": [
        {
          "output_type": "stream",
          "text": [
            "False\n"
          ],
          "name": "stdout"
        }
      ]
    },
    {
      "cell_type": "markdown",
      "metadata": {
        "id": "wWHqsFnjd8m-"
      },
      "source": [
        "****`Indentation`****\n",
        "\n",
        "```\n",
        "ในภาษาpythonต้องแบ่งindentให้ชัดเจน ว่าเมื่อผ่านเงื่อนไขแล้วbodyจะทำงานอย่างไรบ้าง\n",
        "```\n",
        "\n"
      ]
    },
    {
      "cell_type": "code",
      "metadata": {
        "id": "SAu5mDITeBAp",
        "colab": {
          "base_uri": "https://localhost:8080/",
          "height": 128
        },
        "outputId": "c06a6deb-f9e2-43fc-dae4-d4bd96d527b1"
      },
      "source": [
        "a = 20\n",
        "b = 100\n",
        "if b > a:\n",
        "print(\"b > a\")"
      ],
      "execution_count": null,
      "outputs": [
        {
          "output_type": "error",
          "ename": "IndentationError",
          "evalue": "ignored",
          "traceback": [
            "\u001b[0;36m  File \u001b[0;32m\"<ipython-input-33-cfa28886ca10>\"\u001b[0;36m, line \u001b[0;32m4\u001b[0m\n\u001b[0;31m    print(\"b > a\")\u001b[0m\n\u001b[0m        ^\u001b[0m\n\u001b[0;31mIndentationError\u001b[0m\u001b[0;31m:\u001b[0m expected an indented block\n"
          ]
        }
      ]
    },
    {
      "cell_type": "markdown",
      "metadata": {
        "id": "u9JEQevgfAhu"
      },
      "source": [
        "## **Elif**"
      ]
    },
    {
      "cell_type": "markdown",
      "metadata": {
        "id": "T2NxBSHVcW4g"
      },
      "source": [
        "![Python_if_elif_else_statement.jpg](data:image/jpeg;base64,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)"
      ]
    },
    {
      "cell_type": "markdown",
      "metadata": {
        "id": "fkGgCS6-jwMh"
      },
      "source": [
        ""
      ]
    },
    {
      "cell_type": "code",
      "metadata": {
        "id": "GtBM8fRrZDtl",
        "colab": {
          "base_uri": "https://localhost:8080/",
          "height": 34
        },
        "outputId": "e5a44ce8-3b59-4c59-bb97-21312ebc3938"
      },
      "source": [
        "a = 55 \n",
        "b = 60\n",
        "if a == b :\n",
        "  print(\"a == b\")\n",
        "elif a < b:\n",
        "  print(\"a <= b\")\n",
        "else:\n",
        "  print(\"a > b\")"
      ],
      "execution_count": null,
      "outputs": [
        {
          "output_type": "stream",
          "text": [
            "a <= b\n"
          ],
          "name": "stdout"
        }
      ]
    },
    {
      "cell_type": "code",
      "metadata": {
        "id": "nsaKhFgCb1tk",
        "colab": {
          "base_uri": "https://localhost:8080/",
          "height": 33
        },
        "outputId": "ca62e465-46e3-4fe5-cb5a-bd7aa0a8ec76"
      },
      "source": [
        "a = 100 \n",
        "b = 60\n",
        "if a == b :\n",
        "  print(\"a == b\")\n",
        "elif a < b:\n",
        "  print(\"a < b\")\n",
        "else:\n",
        "  print(\"a > b\")"
      ],
      "execution_count": null,
      "outputs": [
        {
          "output_type": "stream",
          "text": [
            "a > b\n"
          ],
          "name": "stdout"
        }
      ]
    },
    {
      "cell_type": "markdown",
      "metadata": {
        "id": "TerS5683txuo"
      },
      "source": [
        "##**Nested If**"
      ]
    },
    {
      "cell_type": "markdown",
      "metadata": {
        "id": "4DKrCtvRdlk1"
      },
      "source": [
        "![nested-if-else-flowchart.png](data:image/png;base64,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)"
      ]
    },
    {
      "cell_type": "code",
      "metadata": {
        "id": "_ugY1acjubyz",
        "colab": {
          "base_uri": "https://localhost:8080/",
          "height": 50
        },
        "outputId": "9f968a39-d169-46ab-9f14-4b048535e424"
      },
      "source": [
        "a = 20\n",
        "if a == 20:\n",
        "  print(\" First if Statement\")\n",
        "  if  a < 100:\n",
        "    print(\" Nasted If statement\")\n",
        "   "
      ],
      "execution_count": null,
      "outputs": [
        {
          "output_type": "stream",
          "text": [
            " First if Statement\n",
            " Nasted If statement\n"
          ],
          "name": "stdout"
        }
      ]
    },
    {
      "cell_type": "code",
      "metadata": {
        "id": "a0Xrnr8gwlzf",
        "colab": {
          "base_uri": "https://localhost:8080/",
          "height": 67
        },
        "outputId": "2421e5ed-5281-40e0-a24f-9543d6fe00da"
      },
      "source": [
        "a = 50\n",
        "if a == 50:\n",
        "  print(\"First statement\")\n",
        "  if a < 100:\n",
        "    print(\"first statement in nasted if\")\n",
        "  if a < 200:   #ทำงานทั้งสอง(ตามลำดับ) ไม่เหมือนกัน elif ที่ifต้องfalseก่อน \n",
        "    print(\"second statement in nasted if\")\n"
      ],
      "execution_count": null,
      "outputs": [
        {
          "output_type": "stream",
          "text": [
            "First statement\n",
            "first statement in nasted if\n",
            "second statement in nasted if\n"
          ],
          "name": "stdout"
        }
      ]
    },
    {
      "cell_type": "markdown",
      "metadata": {
        "id": "jSJoLQd6xey-"
      },
      "source": [
        "##**Conditions with logical operators**"
      ]
    },
    {
      "cell_type": "code",
      "metadata": {
        "id": "dwpl9cNyyFlB",
        "colab": {
          "base_uri": "https://localhost:8080/",
          "height": 67
        },
        "outputId": "5288d68a-bdf8-4fdf-dca6-6760b0457d56"
      },
      "source": [
        "a = 20\n",
        "b = 40\n",
        "c = 40\n",
        "\n",
        "############# AND ####################ต\n",
        "if a < b & b == c: # T & T =T  if เป็นtrueทำงานbodyของif\n",
        "  print(\"a < b & b == c : True\")\n",
        "#if a < b and b == c:  & กับ and มีความหมายเดียวกัน\n",
        "#  print(\"a < b & b == c : True\")\n",
        "\n",
        "#############  NOT ###################\n",
        "if not(a < b & b == c):# not(T & T =T)  if เป็นfalse ไม่ทำงานbodyของif จึงไปทำงานที่else แทน\n",
        "  print(\"not(a < b & b == c) :True\")\n",
        "else:  \n",
        "  print(\"not(a < b & b == c) : False\")\n",
        "\n",
        "#############  OR  ###################\n",
        "if a > b or a > c:# F & T = F  if เป็นFalse ไม่ทำงานbodyของif จึงไปทำงานelse\n",
        "  print(\"a > b or a > c : True\")\n",
        "else:\n",
        "  print(\"a > b or a > c : False\")"
      ],
      "execution_count": null,
      "outputs": [
        {
          "output_type": "stream",
          "text": [
            "a < b & b == c : True\n",
            "not(a < b & b == c) : False\n",
            "a > b or a > c : False\n"
          ],
          "name": "stdout"
        }
      ]
    },
    {
      "cell_type": "markdown",
      "metadata": {
        "id": "IBR0wQwM2EOp"
      },
      "source": [
        "#User Input"
      ]
    },
    {
      "cell_type": "code",
      "metadata": {
        "id": "ym4tt9ze0OdC",
        "colab": {
          "base_uri": "https://localhost:8080/",
          "height": 50
        },
        "outputId": "8b971588-6898-4f2a-e5f0-e6bc01d257b1"
      },
      "source": [
        "username = input()\n",
        "print(\"Username is \",username)\n"
      ],
      "execution_count": null,
      "outputs": [
        {
          "output_type": "stream",
          "text": [
            "pinyo\n",
            "Username is  pinyo\n"
          ],
          "name": "stdout"
        }
      ]
    },
    {
      "cell_type": "code",
      "metadata": {
        "id": "SH06aBdH2xWr",
        "colab": {
          "base_uri": "https://localhost:8080/",
          "height": 50
        },
        "outputId": "1ed50737-6a49-4a87-d599-632b8f1bb1e7"
      },
      "source": [
        "username = input(\"enter your name : \")\n",
        "print(\"Username is \"+username)"
      ],
      "execution_count": null,
      "outputs": [
        {
          "output_type": "stream",
          "text": [
            "enter your name : pinyo\n",
            "Username is pinyo\n"
          ],
          "name": "stdout"
        }
      ]
    },
    {
      "cell_type": "code",
      "metadata": {
        "id": "J8WPFm7e5oUG",
        "colab": {
          "base_uri": "https://localhost:8080/",
          "height": 34
        },
        "outputId": "3785a888-ded1-4202-d0d6-55fd8cb652a6"
      },
      "source": [
        "print(type(username))"
      ],
      "execution_count": null,
      "outputs": [
        {
          "output_type": "stream",
          "text": [
            "<class 'str'>\n"
          ],
          "name": "stdout"
        }
      ]
    },
    {
      "cell_type": "code",
      "metadata": {
        "id": "oKR6-AQd5zyt",
        "colab": {
          "base_uri": "https://localhost:8080/",
          "height": 100
        },
        "outputId": "90663024-ffa6-4f86-fda5-ddb9959c95e8"
      },
      "source": [
        "number = input(\"enter number :\")\n",
        "print(type(number))\n",
        "number = int(number)\n",
        "print(number)\n",
        "print(type(number))\n",
        "print(number + 10)"
      ],
      "execution_count": null,
      "outputs": [
        {
          "output_type": "stream",
          "text": [
            "enter number :100\n",
            "<class 'str'>\n",
            "100\n",
            "<class 'int'>\n",
            "110\n"
          ],
          "name": "stdout"
        }
      ]
    },
    {
      "cell_type": "code",
      "metadata": {
        "id": "KdrLUhJW6RhD",
        "colab": {
          "base_uri": "https://localhost:8080/",
          "height": 212
        },
        "outputId": "686cd476-c84a-4fb6-b46b-84d8ca99b25c"
      },
      "source": [
        "number =int(input(\"enter number :\"))\n",
        "print(type(number))\n",
        "print(number + 10)"
      ],
      "execution_count": null,
      "outputs": [
        {
          "output_type": "stream",
          "text": [
            "enter numberasdfw\n"
          ],
          "name": "stdout"
        },
        {
          "output_type": "error",
          "ename": "ValueError",
          "evalue": "ignored",
          "traceback": [
            "\u001b[0;31m---------------------------------------------------------------------------\u001b[0m",
            "\u001b[0;31mValueError\u001b[0m                                Traceback (most recent call last)",
            "\u001b[0;32m<ipython-input-52-f360e796a93b>\u001b[0m in \u001b[0;36m<module>\u001b[0;34m()\u001b[0m\n\u001b[0;32m----> 1\u001b[0;31m \u001b[0mnumber\u001b[0m \u001b[0;34m=\u001b[0m\u001b[0mint\u001b[0m\u001b[0;34m(\u001b[0m\u001b[0minput\u001b[0m\u001b[0;34m(\u001b[0m\u001b[0;34m\"enter number\"\u001b[0m\u001b[0;34m)\u001b[0m\u001b[0;34m)\u001b[0m\u001b[0;34m\u001b[0m\u001b[0;34m\u001b[0m\u001b[0m\n\u001b[0m\u001b[1;32m      2\u001b[0m \u001b[0mprint\u001b[0m\u001b[0;34m(\u001b[0m\u001b[0mtype\u001b[0m\u001b[0;34m(\u001b[0m\u001b[0mnumber\u001b[0m\u001b[0;34m)\u001b[0m\u001b[0;34m)\u001b[0m\u001b[0;34m\u001b[0m\u001b[0;34m\u001b[0m\u001b[0m\n\u001b[1;32m      3\u001b[0m \u001b[0mprint\u001b[0m\u001b[0;34m(\u001b[0m\u001b[0mnumber\u001b[0m \u001b[0;34m+\u001b[0m \u001b[0;36m10\u001b[0m\u001b[0;34m)\u001b[0m\u001b[0;34m\u001b[0m\u001b[0;34m\u001b[0m\u001b[0m\n",
            "\u001b[0;31mValueError\u001b[0m: invalid literal for int() with base 10: 'asdfw'"
          ]
        }
      ]
    },
    {
      "cell_type": "markdown",
      "metadata": {
        "id": "lmLzePNPVJ5H"
      },
      "source": [
        "#While loop"
      ]
    },
    {
      "cell_type": "markdown",
      "metadata": {
        "id": "AX40bxD3Vke1"
      },
      "source": [
        "\n",
        "```\n",
        "เราสามารถดำเนินการคำสั่งต่างๆได้ตราบใดที่ condition เป็น true\n",
        "```"
      ]
    },
    {
      "cell_type": "code",
      "metadata": {
        "id": "0zawR8PAVacV",
        "colab": {
          "base_uri": "https://localhost:8080/",
          "height": 185
        },
        "outputId": "13f9773f-051c-400b-9490-9408402f82d8"
      },
      "source": [
        "i = 1\n",
        "while i <= 10:\n",
        "  print(i)\n",
        "  i += 1"
      ],
      "execution_count": null,
      "outputs": [
        {
          "output_type": "stream",
          "text": [
            "1\n",
            "2\n",
            "3\n",
            "4\n",
            "5\n",
            "6\n",
            "7\n",
            "8\n",
            "9\n",
            "10\n"
          ],
          "name": "stdout"
        }
      ]
    },
    {
      "cell_type": "markdown",
      "metadata": {
        "id": "rxbo2l9g1wGp"
      },
      "source": [
        "\n",
        "##The break statment\n"
      ]
    },
    {
      "cell_type": "markdown",
      "metadata": {
        "id": "h631jrekcvgQ"
      },
      "source": [
        "![break-statement-flowchart.png](data:image/png;base64,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)"
      ]
    },
    {
      "cell_type": "code",
      "metadata": {
        "id": "TcgeIVw613dY",
        "colab": {
          "base_uri": "https://localhost:8080/",
          "height": 168
        },
        "outputId": "e2dcb216-8be4-4178-a3eb-17e380d370cf"
      },
      "source": [
        "i = 1\n",
        "while i<=100:\n",
        "  print(i)\n",
        "  if  i == 10:\n",
        "    break\n",
        "  i+=1 "
      ],
      "execution_count": null,
      "outputs": [
        {
          "output_type": "stream",
          "text": [
            "1\n",
            "2\n",
            "3\n",
            "4\n",
            "5\n",
            "6\n",
            "7\n",
            "8\n",
            "9\n"
          ],
          "name": "stdout"
        }
      ]
    },
    {
      "cell_type": "markdown",
      "metadata": {
        "id": "4Q-fifIgDH76"
      },
      "source": [
        "\n",
        "##The Continue statment\n",
        "\n",
        "\n"
      ]
    },
    {
      "cell_type": "markdown",
      "metadata": {
        "id": "iVIwzOCLcyZo"
      },
      "source": [
        "![continue-statement-flowchart.png](data:image/png;base64,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)"
      ]
    },
    {
      "cell_type": "code",
      "metadata": {
        "id": "s5enKXpkE-6i",
        "colab": {
          "base_uri": "https://localhost:8080/",
          "height": 168
        },
        "outputId": "ea1a3cde-9223-49e9-c946-8f523fca4020"
      },
      "source": [
        "i = 0 \n",
        "while i < 10:\n",
        "  i += 1\n",
        "  \n",
        "  if i == 3:\n",
        "    continue\n",
        "  print(i)"
      ],
      "execution_count": null,
      "outputs": [
        {
          "output_type": "stream",
          "text": [
            "1\n",
            "2\n",
            "4\n",
            "5\n",
            "6\n",
            "7\n",
            "8\n",
            "9\n",
            "10\n"
          ],
          "name": "stdout"
        }
      ]
    },
    {
      "cell_type": "markdown",
      "metadata": {
        "id": "rtoDXgFKJEbK"
      },
      "source": [
        "#For loop"
      ]
    },
    {
      "cell_type": "markdown",
      "metadata": {
        "id": "DIGSpRkkRwll"
      },
      "source": [
        "\n",
        "\n",
        "```\n",
        "เราสามารถควบคุมการทำงานซ้ำๆได้ ในจำนวนรอบที่แน่นอน\n",
        "ซึ่ง for loop ใน Python จะแตกต่างจากภาษาอื่นๆ มักจะใช้สำหรับการวนอ่านค่าภายในออบเจ็ค\n",
        " เช่น ลิสต์หรือออบเจ็คจากฟังก์ชัน range()\n",
        "```\n",
        "\n"
      ]
    },
    {
      "cell_type": "code",
      "metadata": {
        "id": "DOeUGwXZSjVr",
        "colab": {
          "base_uri": "https://localhost:8080/",
          "height": 204
        },
        "outputId": "65df999d-da32-4a81-c77a-b4fae86d544b"
      },
      "source": [
        "# loop through string\n",
        "text = 'Hello World'\n",
        "for n in text:\n",
        "    print(n)"
      ],
      "execution_count": null,
      "outputs": [
        {
          "output_type": "stream",
          "text": [
            "H\n",
            "e\n",
            "l\n",
            "l\n",
            "o\n",
            " \n",
            "W\n",
            "o\n",
            "r\n",
            "l\n",
            "d\n"
          ],
          "name": "stdout"
        }
      ]
    },
    {
      "cell_type": "markdown",
      "metadata": {
        "id": "u5yyDN4IMx1h"
      },
      "source": [
        "## range()\n",
        "\n",
        "```\n",
        "เป็น build in function\n",
        "```\n",
        "https://www.w3schools.com/python/python_ref_functions.asp\n"
      ]
    },
    {
      "cell_type": "markdown",
      "metadata": {
        "id": "EDL_oS8k7AX0"
      },
      "source": [
        "Syntax\n",
        "range(start, stop, step)\n",
        "```\n",
        "range(10) start default เริ่มต้นเป็น 0 จนถึงครั้งที่10 และ\n",
        "step increments การเพิ่มขึ้น default เป็น 1\n",
        "คือ นับตั้งแต่ตั้งแต่0-9 ไม่ใช่ 0-10\n",
        "```"
      ]
    },
    {
      "cell_type": "code",
      "metadata": {
        "id": "wontx1G167MZ",
        "colab": {
          "base_uri": "https://localhost:8080/",
          "height": 184
        },
        "outputId": "680957f9-d501-4f14-e10a-bde003247d89"
      },
      "source": [
        "for i in range(10):\n",
        "  print(i)"
      ],
      "execution_count": null,
      "outputs": [
        {
          "output_type": "stream",
          "text": [
            "0\n",
            "1\n",
            "2\n",
            "3\n",
            "4\n",
            "5\n",
            "6\n",
            "7\n",
            "8\n",
            "9\n"
          ],
          "name": "stdout"
        }
      ]
    },
    {
      "cell_type": "code",
      "metadata": {
        "id": "fwp9mmiy6_Ji",
        "colab": {
          "base_uri": "https://localhost:8080/",
          "height": 134
        },
        "outputId": "63d039e1-8a4d-4d6b-842c-8ee50fdc9de9"
      },
      "source": [
        "for i in range(1,15,2):\n",
        "  print(i)"
      ],
      "execution_count": null,
      "outputs": [
        {
          "output_type": "stream",
          "text": [
            "1\n",
            "3\n",
            "5\n",
            "7\n",
            "9\n",
            "11\n",
            "13\n"
          ],
          "name": "stdout"
        }
      ]
    },
    {
      "cell_type": "markdown",
      "metadata": {
        "id": "4akKr1t12nkg"
      },
      "source": [
        "\n",
        "##The break statment\n"
      ]
    },
    {
      "cell_type": "code",
      "metadata": {
        "id": "-d9OWkDB2sNm",
        "colab": {
          "base_uri": "https://localhost:8080/",
          "height": 151
        },
        "outputId": "3b96099a-78d1-46a6-9b74-9294e31f81a6"
      },
      "source": [
        "text = \"ComputerProgramming\"\n",
        "for i in text:\n",
        "  if i == \"P\":\n",
        "    break\n",
        "  else:\n",
        "    print(i)\n",
        "  "
      ],
      "execution_count": null,
      "outputs": [
        {
          "output_type": "stream",
          "text": [
            "C\n",
            "o\n",
            "m\n",
            "p\n",
            "u\n",
            "t\n",
            "e\n",
            "r\n"
          ],
          "name": "stdout"
        }
      ]
    },
    {
      "cell_type": "markdown",
      "metadata": {
        "id": "2Ssg4vX4HMis"
      },
      "source": [
        "\n",
        "##The continue statment\n",
        "\n",
        "\n"
      ]
    },
    {
      "cell_type": "code",
      "metadata": {
        "id": "fy2ox3AiHX82",
        "colab": {
          "base_uri": "https://localhost:8080/",
          "height": 151
        },
        "outputId": "a0d0a6f4-87c0-48ed-f603-d2dcfa01673a"
      },
      "source": [
        "word = \"Hello World\"\n",
        "for i in word:\n",
        "  if i in \"aeiou\":\n",
        "    continue\n",
        "  print(i)"
      ],
      "execution_count": null,
      "outputs": [
        {
          "output_type": "stream",
          "text": [
            "H\n",
            "l\n",
            "l\n",
            " \n",
            "W\n",
            "r\n",
            "l\n",
            "d\n"
          ],
          "name": "stdout"
        }
      ]
    },
    {
      "cell_type": "markdown",
      "metadata": {
        "id": "R313m89SJQcd"
      },
      "source": [
        "#Nasted loop"
      ]
    },
    {
      "cell_type": "markdown",
      "metadata": {
        "id": "w_IGTEnG6yLJ"
      },
      "source": [
        "#List"
      ]
    },
    {
      "cell_type": "code",
      "metadata": {
        "id": "k-xwXFqQ6Gt7",
        "colab": {
          "base_uri": "https://localhost:8080/",
          "height": 33
        },
        "outputId": "d84804e9-824a-464a-8727-a28b088cc1b4"
      },
      "source": [
        "ls = [1,2,3,4,5]\n",
        "print(ls)"
      ],
      "execution_count": null,
      "outputs": [
        {
          "output_type": "stream",
          "text": [
            "[1, 2, 3, 4, 5]\n"
          ],
          "name": "stdout"
        }
      ]
    },
    {
      "cell_type": "markdown",
      "metadata": {
        "id": "Y9f2M8JGKE9j"
      },
      "source": [
        "##Index\n",
        "\n",
        "\n",
        "```\n",
        "การเข้าถึง ของlist ต้องใช้index ในการเข้าถึงข้อมูลของlistเพื่ออ่านหรืออัพเดตข้อลมูล โดยเริ่มต้นคจาก 0 , 1 , 2... \n",
        "แต่ก็สามารถมองย้อนกลับมาได้เช่นกัน ซึ่งจะเริ่มจาก -1, -2, -3... ได้\n",
        "ซึ่ง index เป็นวิธี ที่จะเข้าถึงเข้ามูลของlist ใน python\n",
        "```\n",
        "\n"
      ]
    },
    {
      "cell_type": "markdown",
      "metadata": {
        "id": "H3vF5in4BNDj"
      },
      "source": [
        "![python-list-index.png](data:image/png;base64,iVBORw0KGgoAAAANSUhEUgAABCYAAAHCCAYAAAAzRsgMAAAACXBIWXMAABYlAAAWJQFJUiTwAAAAAXNSR0IArs4c6QAAAARnQU1BAACxjwv8YQUAAEy+SURBVHgB7d1frGx1gSf6Vahoe5hWmRGcuVdBwXuj3RfoZOxkODcXfBAS7Uk3Om3u5A4qb4AP7cQ/k/sEPN2M0Bk7aYV54l8/3NgtaGbUAA9A0sdO1GQ4JOokA4qazIB2o3RzaMWWmvOtfdbeq1b9Vu2qfXbtVbXq8yHF2bt21apVtdaqtX7f37/R+LQKAAAAoAfnVAAAAAA9EUwAAAAAvRFMAAAAAL0RTAAAAAC9EUwAAAAAvRFMAAAAAL0RTAAAAAC9EUwAAAAAvRFMAAAAAL0RTAAAAAC9EUwAAAAAvRFMAAAAAL0RTAAAAAC9EUwAAAAAvRFMAAAAAL0RTAAAAAC9EUwAAAAAvRFMAAAAAL0RTAAAAAC9EUwAAAAAvRFMAAAAAL0RTAAAAAC9EUwAAAAAvRFMAAAAAL0RTAAAAAC9EUwAAAAAvRFMAAAAAL0RTAAAAAC9EUwAAAAAvRFMAAAAAL0RTAAAAAC9EUwAAAAAvRFMAAAAAL0RTAAAAAC9EUwAAAAAvRFMAAAAAL0RTAAAAAC9EUwAAAAAvRFMAAAAAL0RTAAAAAC9EUwAAAAAvRFMAAAAAL0RTAAAAAC9EUwAAAAAvRFMAAAAAL0RTAAAAAC9EUwAAAAAvRFMAAAAAL0RTAAAAAC9EUwAAAAAvRFMAAAAAL0RTAAAAAC9EUwAAAAAvRFMAAAAAL0RTAAAAAC9EUwAAAAAvRFMAAAAAL15dQUAwNJefPHF6sSJEzP3Hz9+vDrvvPMqViefez7/pksuuaS69NJLKwA2j2ACAOAAUjC+4447Zu5/y1veUl1++eUVq3PnnXdWzz333NR9119/vWACYEMJJgAAYEOktciDDz5YLet973tfde2111YA60gwAQAAG+Lpp5+uTp48WS3rsssuqwDWlWACAIBePPvss9WnPvWp3d+vu+666kMf+lBFt3YXFoAhEEwAANCL1Pw3C9qnTp2qmK896CfAEAgmAADoxQMPPFCxnFIwkVlgjh07Nvd5ZooB1plgAgCAI5duHN///vcrllMKJm699VYzwQAbTTABAHDEUrhMa4F0ZchghnUXhtR6Z8rLzKCQgmamHp3nC1/4wlT3hw9+8IPVJZdcMvk5y/7GN74xmcWh7i7RXP4yMzTU6/vwww9PLev48eNTr5nH5P00ffrTn55ZXkKJ0lSrWd/SGAqlZSy7rvX7zjpvcuuBUncXrSGATTcan1YBALCUFK6vv/76mftT4J5Xe51C83333bfveAopbGb5Kfh3+Tf/5t9MFeTz2Jtuummy/Pvvv3/e4qsLL7xwsq77hR8p4LcDkLaPfOQjk3X95Cc/WT355JNTf3vkkUemfl/0/c9bRvt9Rx1e7Leued+33XbbbpiyaRKutGX6UOEEsMm0mAAAOCK33377pKC/iNT833nnnZNCdikAKUnriLQO2C+UiBTsE2LkNbrCibS6yDrvJ0FD7Nc146GHHpq83irk/dTrsd/jMhPIvPc9T1cgtawEKddcc011GIQSwKY7pwIAYOVSaO4KJVKL31WDn+ctOkhkCt2LhBK1hB+pbe+ySChRy3r2OWPEIqFELet51113VZsmoUhb9p1s94Q+9S0BVbtLDcA602ICAGDFUqAsBQZXXnll9ZnPfGZ3RoUUMNMVIWMtNOW587p0lKQ7SZafwCMF8YQi7eVG7k/LibYUcEvjPUTW5R3veMfk53TdWLQVyBVXXDFprRAJBtpBRtY3t7NRjyWx3/tOa5D8fZNaG5SCn2yjdG0pSWiR1h3LjCcC0AfBBADAipVCiXQjyFgHTfX4BylMNmvHUyBNQXrRmRdSuG8vO4M+lsaAyLJTuM1rN3WFDe0xNFLoTVBx4403VvvJa9SF5Hwm7YJ2woSzKURnvdqDau73vg8STLQ/q4M4yOsuMy5H5P3l80irmPyrywewrgQTAAArllCh7brrrut8fP7WHoshtf6LBhM333xz8f6MadAuoEdCkGZhO4X20uPy/NI6JFDIOs/rFnIUSi0/IoNz1i01mg7S9SSB0p/92Z9VfThoV5l068iUoqWZUADWgTEmAABWqK6Zb5s3K0SpRr6rW0VpuV01+osGG13jE6T1QZdFl70qCQy6PtPDaOGwDvIeDzJgZyQcS/ccgHWkxQQAwAp1FfJLNfjzLFpbftCC6yKvNa+A3/f0m/Ne/zA+k6ZSC5hl5bNcdr3yHtMFJt1sxuPxZDyNLKMeoyT7Wm55TGmgzEy7arwJYB0JJgAAVuioZ6qoB6U8G13rPG+Mgr7HLziqVhEp8C8bKpVkutCDBiZd04wmuMgtrVeyju1wYhMH/AS2g64cAAAr1OcUmkep78Ju3WqAnZCmawyTRbsEARwlLSYAAFaoq8CemSyWKUwfdneEw7YtAcym6OraYjsB60gwAQCwQl1dDNIcv+9xGbp0hSnt2Tvaf9sG+Wy6ulIsY92DJoCjJJgAAFihFEBTmG3XVGf6z3UNJrrWK1OIds2+sS1dBLItMz7EuusadHVd9zlguxljAgBghVKQLQ1I+cADD6xts/o6TGmbt87529k6depURbf77rtvoZYpeUxpeySUMPAlsI4EEwAAK/aRj3xk5r4U8G+88cbOgmb+nlkUPvnJT1a33357ddTe9773VaV1uuOOO6bWOfd94QtfmLSmWEapS0imwWxOxZllnzhxwoCNZ+Tzuf766yczbiSkyGeVlhH5fHLLz7k/+1XpM8u4JgDrSFcOAIAVS/eHK6+8ctJ9oymFxxQ0U5Odgnrd5aMuZNb6GI/g+PHj1YMPPjhzf4KC3Opg4aChQd5zO8zIe0+hux4UtG5BkTDkqKYD3QQJJHK7//77F35O9qHDGBsDYBW0mAAAOAIZl6ArYEgIkdAiNeL5t2t8gKOUMKVrysmoa+mbj19Ggo8uCSR06zg8CbwS7gCsK8EEAMARSOHwzjvv3Kha63RBueyyy/Z9XEKJUteP/Z6T1iKsVsIwLU6AdacrBwDAEalndEg4kcEJ05Vh3gCYKbzn1tfYAFnfP/7jP56MW/DII4/MjIeRv2fdEjA89NBD1bLqsTdKy66Xny4fptbcUW+LtKjZr1VN9pvsZ7pvAJtgND6tAgCgFylgplBeBxQpjKcgnls91sK6yLgGWc/cLr300qmpJxNMtLsL5L2UxqkoaX4O9Wdgastu6ery1FNPTX6uQ5113ncA5hFMAABw1lKT3x6MMcHCXXfdVQHAPMaYAADgrDWn+aylBh8A9iOYAABgRrpWZLDORWYIqcfLaDO+AQCLMPglAAAzMtZDAofcMqNDumXklp/rwSgztkGmN82tLY9ZdgpRALaTYAIAgLmee+65ya0UQHTJTB2mqARgEbpyAGy4F154ofpv/+2/VQDr4uabb9aNA9gquRb75S9/WXEwWkwAbKgEEj/60Y+qv/3bv538/s53vrMCOCxp7XDZZZcVx47okq4bN910k2k+ga3zk5/8ZHK74IILJrc3vOENFYszXSjAhmkHErXjx49XAIft1KlT1VNPPTUZBDPjTqRLR1M9/sQVV1xRHTt2rALYRidOnJj6/Td/8zcn348JKdifYAJgA/zDP/zDJIX/7//9v3c2ExRMAAD0ox1M1F73utdVb33rWwUU+9CVA2CNJZBIGPE//sf/mPwMAMDm+MUvfjEZf+LHP/7xJKBIF4/Xvva1FdMEEwBrSCABADAcdUCRFhTp5vG2t71NQNEgmABYIxk/oh48CQCAYUlAkVs9UKaAYodgAmANdA1oCQDAMJnJY49gAqBHAgkAgO1WBxTbPJOHYALgiGXMiL/5m7+ZjCHx0ksvVQAAkIqq3OqBMrcpoBBMABwRA1oCALCfbZzJQzABsGICCQAAlrVNM3kIJgBW5NSpU5NA4vnnnxdIAABwINswk4dgAuCQGdASAIBVGOpMHoIJgBVIk7ujDiZOnjxZAQAwfL/85S+rIRmNT6sAOHRpcpdBi5JqH4XzzjuvAgDg6L344ovVqo1Go+rNb35z9c/+2T+rjh07Vg2JYAJgxeqAIl08VpluHz9+vAIA4OidOHGiWpVXv/rVkzDin/7Tfzr5eYh05QBYsXTreOc73zkJKBJOJKQYWvM7AAAO1zYEEjXBBMARSUCR24UXXlg999xzAgoAAGakm0YCifPPP3/wgURNMAHQg4QTdUDx05/+dNKSAgCA7ZUZNt761rcOZqaNZQgmAHpUBxQJJurpnwAA2B7bHEjUBBMAayAnovqkdJQzeQAA0I8LLrhgctvmQKImmABYI/VAmXVAseqZPAAAODrbNKDlMnwSAGvITB4AAMMhkJjPJwKwxszkAQCwuXIdlzAiXTYEEt18MgAbwkweAACbwYCWyxFMAGwYM3kAAKwngcTBCCYANlR7Jg8AAPphho2zMxqfVgEAAAD04JwKAAAAoCeCCQAAAKA3ggkAAACgN4IJAAAAoDeCCQAAAKA3ggkAAACgN4IJAAAAoDeCCQAAAKA3ggkAAACgN4IJAAAAoDeCCQAAAKA3ggkAAACgN4IJAAAAoDeCCQAAAKA3ggkAAACgN4IJAAAAoDeCCQAAAKA3ggkAAACgN4IJAAAAoDeCCQAAAKA3ggkAAACgN4IJAAAAoDeCCQAAAKA3ggkAAACgN4IJAAAAoDeCCQAAAKA3ggkAAACgN4IJAAAAoDeCCQAAAKA3ggkAAACgN4IJAAAAoDeCCQAAAKA3ggkAAACgN4IJAAAAoDeCCQAAAKA3ggkAAACgN4IJAAAAoDeCCQAAAKA3ggkAAACgN6+uAFgLjz37cvXlH/+y+vKPflH98NSvK4bvjeeeU/2X3/vH1RPP/6q67rGfV2y3i8971en94Z9Ut538u+pz33upgvjYJb9R3X38DdXHTrxQ3fv031dsp0+861j1H97zj6r3PvR89dhzL1cM38XHXlVdfv5rJt8Bf/C211ZDJ5gA6NnPXx5Xtz7xd9Wf/FcFkW3zxnNHk8IoxNUXnjvZJ3IhCrWLznxH+K7Ybpefv1Nsm+wPz1VsgWdOV1Ll9pUf/6L6/be+rvrc6WBqyN8DggmAHiWUSO3HEz/7VQUAAG0JJ04+/6vq0WvPH2w4YYwJgB6lpYRQAgCAedJ64rpHh9vtUzAB0JNnXvy17hsAACwklVn3PDXMsWYEEwA9ufXkixUAACxqqIPgCiYAepK+ggAAsKjMypIxyoZGMAHQkyd+9g8VAAAsI92Bh0YwAQAAABvi5796pRoawQQAAADQG8EEAAAA0BvBBAAAANAbwQRAD8bDG0wZAICjMMDrSMEEwBHLuWQ0qgAAYHmj4WUTggmAHmgxAQDAgZy5jhzS9aRgAuAIjc/8Ty4BAMBBjHf/NxyCCYAjIpQAAOBsjc/cqgF1DRZMAByR5rljrC8HAAAHMd77dyiXlIIJgCMwSbbH0/8CAMBB7FxP7lxRDuG6UjABcJTG48lJRIMJAAAOYu8ycjSYyi7BBMAR2ekPmA4dI8EEAAAH02iFuztDR7XZBBMAR6HRB1AmAQDAQe2GEjHauWPTx8EUTAAckTPnDTNzAABwYDsNJfZqvIwxAcC+dk8WozM9AfXjAADggHauJEc715SjvcqvTb7CFEwArNjuyaKecHo0oEmnAQA4UqMzTXDHo71xy0bVZnfnEEwAHKHxeDzdLxAAAJaw12Ji73eDXwKwHKkEAABn48wU9Hu/68oBwKJ04wAA4Cy1Q4hNv8QUTAAcpckgRaPNn9MJAIB+jOp/9i4ox5UxJgCYY7zwnQAAsI/xzA8bX+clmABYsakTxWhkjAkAAM7KqPH/2PTLS8EEQB905QAA4IB2ZuJotJgwxgQA80wF2PUYExpNAABwQO0cQosJAOaaCbB15QAA4CwNqQHuqysAVmoqhjDGBABMeeO551R/8LbXztz/5R/9ovr5y86Z0GVqJo4NTykEEwBHSSgBAFPeeO6ouvvKN8zc/4O/+3X1+HMvV0DbeHZ60A2fL1QwAdCHAbW9u+L811T/4T3/aPf3r5yu4frc916qVunB975xUsPWdMNfvlA9c+rXFevj4vNeVd19fK+w8cyLv65uOPFCdVjay6+996HnK/p36+XnVVe95dzd32974sXqsRUVMtuvFUfxXcTirr7w3OqWK87b/d25Yru1rx0ef/bl6taTL1arUNoPrnv0ZxveGmc0uZTUlQOAA8opZDyowS9vOV0gyAVn7Z6n/r5apUmT37e+rmL9/dG7jk3tG597/lR1mK5402umlh9PPP+riv4lNMr2T0147bqfrW7bJJRo7wur/i5iOQklpr4Pvnu43wdtXeeKn//qlYr+/dG7Xn8k1w4JQIZ8zdBuJLHJjSYMfglwpMabP59TQwoff/DW6X7BJ1dcMLzi/NlM/bHTNS1qwNZPe9/IdjpMl5f2Bc2+10IKHM1QIoHRKmsnE1K1Pf6sfWFd5FzRDo5OPv8P1Sp1nSuMWdG/7A8fu+Q3pu5b1bVD83uoNoj9oGOCt02+whRMAKzYkGflSGuJpp+//Er1xM9We7F5eaEAcs/TakbXTS46c/HZ9MMXDzc8Sk1Y271qyddC+7vhmRdXFxxmP2gXPoSV66V0rlj19nGuWF8fbYUSq7x2uKoViMUg9oMzl5Kj8t0bSTABsGLTJ4nRoDoEzjajX20oMXnNt8xeZKgZXT8fvXT1F55XvGm6RjSF31UHY+wvx2g7lFplS5aLj71q5j4F0PXSPlc8dgTf2c4V66vdWmKV1w6lAHuw+8GGX2IKJgBWbPokMZzxJdJn8ygLH7V2IUTN6PopNds+7AvPvEZ7/1vVwGksp10bGqsseFxVKIB+5ce/qFgPpXPFUQSI7eAyU486V/SvFFw+scLxZ9r7QcayGOx+sOHXlwa/BFixofZm/f3CnPPtgQcz+Fhz1O34k++e2r0ozRgEf/TuY5P+4WmKnT6fXz5doLjtdAGz1PQ7y2v3G1Yzun6uLjSdLV14Zt9ojpSeWRvqC8ZcvKb5d3PfeNP//9zuY40psL5K2//knIJHtnXCjEmBpRE8Zp9JoNH1fVCb+U44XfAwjsD6WORc0aX+PkgNe1phLXOuaBd+nSvWQym4nNeCph6PIvvRxcdevdttK98P2fZf/tEvq3s7tm0pwB7SfjCkGTlCMAGwYmfm4Zi9c8OVRrlujyGQC4iPlfqSfuvvqnuOv2HmAqV+/OR24oWZi412ASQXJfe62Fw77W4cUbrwbNekprDyJ997aTL1Y7tPensMgXYt+aBrwTZIsTa0Y+DLerrXUpARKYTmlu+Dz33vVPVvT39vFF+z9fw/+d5qZ3tgOYucK+Y5yLmivU/kXPGVH/+yon+l471rf/jce35zMntHSf39kP0r54z3Pvz8TEjVDrDz98cHNEDyuOM+s3IAsKDRxjejKA02F4s0z60vIkq1Jk33FAos7UGsNN1fP6mpXObCsyn7Rgoa7VCiRMuZ9fT7hUJoqUY7ocSj15zfGUq0feJdx6r/8nv/eOZ7pz2OQAIw44ysj9K5YpnxZm5IS4kFzhXt5vrt4NK5Yj2UWjBEaX/Idu0KJUrLzfdJe9mD3g92x5PYO75GGz7GhBYTACtUzB9G1cYHE6kBvfhLP60OIhcOixQ8I4977HQtSC3dQJpznb/wsvno100KHaV944cLtGZI2HDF+b9ZLeJjf/nC0stn9W574u+qz313usVC6TgtFSL2k0JuvhOaLSee+Jvp7yLfCevlbM4Vsei54j+crll/b+Nc0d4P7RfrISHlIvtDV+VFWl5lGQm72t8f+f3Bq99Y/c5//pvd+wa9H4zrf8anLyuH0alDMAGwQvWpYjeHSJz9yjD6Pp9tQTAXF5/73kuTC9e3nwkr2hcaqQ1NjWo9qObPfzU+fVMAXXcH3Tea402s6jVYrUWO0dJUslF/J0wKL6f//onTtaXtx6XlxFd+9EvfCRvkMM8VCadSaC21nHGu2Az77Q855kuhRCol/u23/naybSOts9KqorkvZP/4/be+drfbzqD3gzONb5tnzU3uxhGCCYAVm4ohxuOdcGK83QOz5ULzvQ89vzsmwOPP7dz36LXnzzw2A149NqA+oSwmtVz3Pv2L3UEz3/iaoQ3ztb3+6HS40Jbj/3f+01/vFjriKz/6RfVf/uU/mSmEZgwT3wnbYfZc8XJ18nRA4VwxXAmY2oFk9oMbvjHdSi4z79x68lXV51oDbE/Cy20YT2S8989Qzo7GmAA4alseSkRpis9cUJYGSFy0DzrD8Ylv/m31b7/9d1MzeTQLrGyuFDja44NE+n63t3G+Iz5XGMgys/mwHZwrtk9p8OQvd0z/Wxr8uvT9MkhnxpNoduPY9IBCMAGwYup5Z3XNWV4aACtNM9keqRn7k//6UsUwlaZ5jZMd00eefH72O2EybfCbNPrdBl0F0tK5YtkxS1hPpYCpazrRjGn0zMxsYOdUF23DvjCeHa5s0+N73+oAKzbTQEJXjuqJ58sjsncVTnKRscz0cmyuroIIw3B5R21m1ywNXSHm5acDS7NvDF9pmtkozfSSAmm6/XQ9h/XXFS59+b1vqmjZnYFjrzOHFhMAzNc+U+jKAZ2eEUDRoJBJSdfsCm84V9Fmkx1Wq5eLj21H65mdb8e9i8xNv7x09AKsmK4csDgFUZp+bppHgFmFU+Vowy84deUAWLGZc8eo2vyOgABHwLgBlHS1jHhBkLXRulrMZarQZ5aYdnYrun7uhhB7XTnqid82lWAC4KgJJSaFjUwR2tY1YJXxJWAYuo7lrnFkuoIJXX62Q9e5omu/0OJqs3Vtv4w9tBVTgC5jPJSRJfboygFw1Eajre/f0TWd19VvmR2N+4mOATGBzdM1YGXXVI+Xd83i8TPfC9ug61xRut+5YvOVZtmI0rUB40k917hR2zUZW73aXIIJgKNm8MvqY5f8xmT09KbUgJUKJ2pGYThSeCzViuY7oeQT73r9zH2ZOlDN+HZY5lzRNdsTm+XLhZYR2Q9062qbbS8xrja73kswAbBixZPEll9TZ1q3u698w+6FxhXnv6Z68Oo3Fh/7Zc03YVA+971TM/elRvTWy8/b/U5IYfSe428oFkbuefrvK7ZD6Vzx6DXnFx9rquFh+MqPZrdj9oNs965wIvfn++Nn//eFnV1Ct8GmN8Y1xgTAis0OfjnSauK0P3jb6ya3edJa4l6FEBiUP/neS8Ua0FtOFyxym8d3wvZZ9FxhDIJheOy5l6vPffel6hPvnm4tle+LH3zwzZO/1y0pE2AmrNqW6UGnjGZ+MPglAPOZhOPgbj35YgUMS/qRX/foz6tHrz1/ppn+/OeNq/c+9HzFdsj2XnT/cK4YltuefPF0GPXaYguJSTeeCyuq+vpyfPrfM906NrzJhK4cACtWDCW2fPDL3/lPf7NvH/Fbn3hRzSgM1BM/+9UkZFh0DJk8bvL4U8ac2RZf/tEvFgqinCuGJ+Fltn2mCaXLeOPHlGgTTAAcufHWN6H42a9eOR1O/HVxsLIEFp/45t9OakyA4arDiRQ+ugKKfB+k4Dn5vjATx1a57eSLk2b7b//ST4v7h3PFsCWEvOEbL1Q3nHhhMuDtPNkX8j1y9envk62ZXny8E0k0Lyc3/dJSVw6Ao6ZfR/Wm14wm0wb+zn/+60nf0MvPf82kye7J00GFwsf2ePsDP63YbnXhI65402smA9fluyAFjczg8UMtJLZCgofRfc+W/3Z6H8h3RXP/cK7YHhnsth7w9qoLz50MhFl38cl+k9u2fk+MqlaLiQ1vQiGYAFgxY0zMesO5ew32ctGpeTaQgqbCJl3sHzz+3MsVe3auLRtJhDEmAOjSGUhs+RgTAAAcXLszx6ZXhAkmAFaoeJKYTBdaAQDAgU2NMTHe7HovwQTAURtLJQAAODtm5QDg7OjKAQDAAc2MMbHhBBMAK1Y8ZWg0AQDAAc2MMWHwSwDmKWYQWkwAAHAQhevITe8pbLpQgKM0GfhyvDUtJn7+8ri656m/L9z/SgUAwEGMd/+/m1FseKWXYAJgxWZm5qjDiS2QAOKGb7xQAQBwSMY7KcRUFjGuNjqc0JUDYIVm4octai0BAMAKjGYHv9z02egFEwArNFr4TgAAWMC4/mc6itjkS0zBBMCKaSABAMBhG1Jdl2AC4MiJKgAAOLj2KBObPnyZYALgqG344EQAAPRo1JyXYxgEEwB90GgCAIADmb2QHG14pZdgAmDFRgvcAwAACxmPzkxH3+jKUW02wQTAUZNLAABwUKP6n0YcYYwJAOaZOk9MJpkeCycAADiY8dQ/E6PRZmcTggmAVWueJSahxIafOQAA6NXOWOq6cgCwqHbriE2fzwkAgF7tXF6OC/dtJsEEwIrptQEAwGFrDn5pjAkAlietAADgIEZ1V47htMIVTACs2HjhOwEAYB+FcdRHG17pJZgAWKGdNLtAiwkAAA5oXA2rnkswAbBC5VDCrBwAABzQaDy4Oi7BBMBRMysHAAAHNR7NtMrN5eUmX2EKJgBWbOokMekAqB8HAAAHVxpjwnShAHSaOkmMh9YjEACAPoz3+X2TCCYAVkyLCQAADtNOV469a8rxWIsJADrMzMqhxQQAAGfhjefuFOPHzWtK04UC0GU05w8XHXtVBQAAy3jbsXOqobXBFUwA9OF0wP17/+trKwAAWNTlb3xN9cbX7EQSU21wN7xBrmACYMVmx5jY8S//l9dVAACwqI//76+f/DuTQ+jKAcDCJiMT7Zw5/q8Lz60+/r+9vgIAgP2kG/D/8/bf2L2WbA5+qcUEAMsZ7505/t/fPq/6P9746goAALq87XQo8bX3vmnnlzPXkuMBDagumABYsamWdUm4G9053nDuOadPMudXN71TywkAAGb9nxecW3319PXi287bq8wy+CUAS5kemGg81WIiP//ma0bV//c7/6g6+f5/Uv3ri35DC4ot8vOXx9UzL/66+vKPflHBE8//w2R/eOL5X1VQe/zZlyf/Zt9ge508/f2Qc4bvh+3xtte/qvrXF/9G9Z+uflP1n0/f3vb6M0X3rt4bG55SjMbj8XDafwCsoXzJ1nlEvnJfOf1vbuPTZ5Bfn/7hlcbfX+njGzmvOaTIndVq7y/2n81m+7EMx/+w2H4b4ZzRXoPbRBOvOmdnZInRaDz52zmn/zD5ex482txNqsUEwIp1nSAmsfBoDU4fLkpmjQ/4t6PS5zqM9vmdzWL7zXL8d3P8D4vtN2sNj/9x64d6dIl2V47RBocSIZgA6EmdSYxapxHXCWtgdMC/HRU7CayO4x+215od/1PhQ33hOBVQDIdgAqAPU/0Dp08tvZ1otqhjn06Ma2Sbt8U6vXfHP31w/K8Hx//aGlfNzTNe+wZdZ0MwAbBi0wMT7aXdOyfH8fqcSbaoFm4detBMKCANc79bdLuu03t3/B89x7/jf104/o/eEsf/aMH7N30zCiYAVmzqRJE0ou7C0TFKkVa6W8TGXg+HXUC0XVmE/WQ9OP7pwwH3k/bYs0Pa4QQTAEdpNDuehGsY6JmDELaX458NsVOftTMDR2Ogsl26cgAwV/NEUZ8/RrsBxV7evemjKU9omgzby/EP28vxf+h2rw1H0/ft/Ds+8/O4al1SbizBBMAR2Au3x5NZOMa7oy/ttJmYDG40rja/CYWaJziYIVzUO/7hYBz/zNHoBbw7/GUdS9T7TrMRxaYSTACs2GznjfFu64g6Cd+9VdXUBcoyrShGjX+bt/bfS7+P5vy73/NKfx8VHlv6fb/llJbXld0s8l7nPa/0ee33Xhd5jXmvvZ9Ft9+8546WvL/087z16HrdRf4+WuDf/T73XeP9X2+R+6s5j1/0s9tvn62P86nHjbqXt+j6tV/P8T+7rGqB11nk93nLWeT+RSy6/eY91/G/3P3VnMc7/vc/Jhb9nLqeU81Zh3n7w5CO/6nXOvPD6Mydo93/8nO9E40GM32oYALgSO2dNnbDieZttHM758y/7SR81DxJte4bN15hd3qp0d7zm0bV9AlsprvJaHpZpdepHzzV9mO097qj1pm8udzSuoxbf26+n+Yfmus0s6DSz41lte9vnM+n3kvxdfa5Mhm3/h01fi9+Fh1Grfe6+/jW88cdz6m3VXt9qsZ61H9v7kdTDXYKn9+osE2brz1qrNeoY92qavp1xu3nzNuXO5Y3mvlhen12LubK61EV1rVrM48L76H9e2nb1S8yc7w1Xqj9uY47lu34d/zXPzr+9153+ofp9XH8V47/jvvX8vhv/TzzsqNxY/vvhRRd23rTjMZjszkDrNrkJDc+czv98yunfxiPR6f/rSbdOl4Zzz5mY7WvMGBZ9qHNZdtxtuxDm8u2O1RTrWurVFqNpiqvzhmNz/x9tPuYTfbqCoDVO5M01K0gRmfqCerkOyebV14Zz6Te41K1TmnZfZyNul53Xq3CuFDTscp1OSrreDG2yDod1mMOW7vGa1X7zSJW+f4XOb4XWYbj3/Hf5vg/HI7/5V7X8X8oy5tpBVXthA87LSaaIcRo76UHEAppMQFwROqWEFMtI07fXqnGZ35Oj8HxXouJqZNMqZHjqPWg6a/zdjPZnX9HU4+b/Vt7OaM5y50M41m1z4Q7Fx/tU8vOM6avw6bXv/7raOZd7nwuo5nlldaqfd/exdB4d1nVmf9PL2tc+GlvSePpz3L3wmHv8+l+b/UrjndXq9jkt3H/9OtMv/+99zHefa3p9RtNvffJ1GKFbT79/qY/jfL73GndM2qs/LjxzNL10Ow+Mp55/fa+N3kn48Yo4/W+c+azmH5mtTtobHNPLe8do8br15/Z9Pabd5Q1/zCzbtXee5jeV5v3zf48/b7ax0zz1R3/jv/m3xz/jn/H/+xate/bzOO/uRq5a68Cq/59tNNSYjTa/Xu9Ou1PYdMIJgCOQPPkk593goid091OOHHmMeNx4+9nntO8CNqvymHe35d97jKPX7YqZPdq4cyb3D3J9+XMVcDU+yhd7Oy3mLN5/gFeb+7rn8Vj9n+hM/8eZDkH/Kw717t5AVhap9ay933ds9gOpWOitN7z/rbo8pf9u+N/Dsf/ki905l/Hf+c6Ov73f67jv7UO07/ujO2xF2lNAon8eKb7xjlnXqseA6TPT/CwCCYAjsh4LzA/M13o6EzriDqg2KstGlfN09rRnG6maxb27quv+UrXHc1LwWaQMpqz/Pp5owXW5SDrX1rHRRY1c10253nNS+HRnGUcltK2Ka1TdZavv19xY5HPpPT72RRjltF+za712e+5xb8Xrttj6f208Dqr2m+W4fh3/Dv+5/zd8T/7nDP/Ov7Lyzio8Zn/7wxsubPQ0eS1mjO6jXZfq37JvvehwyCYADgizRP/bkgxLv++e9arqmrcTPObGo+Zuq/quH+Zb/vm47uWuazScrreQ9drt680u5a77Hp0vX5pfZZ5ndLVeelxbfu93miB5Y071mVc7f8+So9b9DnVnMfP+ywO8rdFXrPqeM5+pajSc9o/H4Vl9gHH/8HWo+v1S+vj+J//nGrO4x3/y3P8b9HxP2r8f+8A3Gs1UTWCicYzRuWvkU0kmAA4YuPd/7VCifrv472z2VQo0W76Oe/re6qZ5Jyfm8tpN60snYxnLhQK6zbTTLNwX9e6ZtGNk3C9fnufSHMFcjYeF074Z1a42aRyXFXN6oTJ6jTrJUZV+XMo/V5fBUxVJ1Wti5nS51B1XGB2bM/dxzee2PnYUeFzanxGk+c017vw2oX1211esyqt67MofU5V+/72tmm80PQP03+u94mZ42Bc/tyrjvum9uXme59zTBWr4Qr7R+nYKi2z1Ky7uKzJH8vHVmm57ddw/O891vHv+G+8/O79zWXWP7c5/ivH/xEf/5OX2BsPY9R4L6Oq1VJiVFWFPXRjCSYAetC8xqu/hJuBxM5jGr8vekFS67oIaP9t3uOW0XUyn3eh0vXY+r5Y9OJr2cfsdwFbum/hZXVcgex3sbrMe++yyHafd6G46H5TzVn3uRd1C67/Iuu2335zWPv23Cq0jnWbWcR+69J11dpaRjj+y8tZ5jGOf8f/4itVOf6XfD3Hf/lxtUWO/50HVs1BSeuAYtR6qamnbDjBBEAPdr95G+ew8cxjpoMKAACGbOdqsA4i6tlwpgKJMw8bUigRr64AOHJTFQJnfp78I4sAANhSOzVW9aXgbkuJUesScYDXilpMAKyBOhHf/UKuzz6NlhVd56CZxhfjvRNY06j5+PHeMsetx4+6ltv8vd0Ss/G41moX17UqLHvu81qBzXRjx2rqPc99zcb7bt019XP7/VaFZc5b9/Yyq8I6jguPLS2/uY2qqrydut7P1OsX1rXa53WmljNutUZtPL+9zqVl18vY3e+q7vUqLrMV4s3bRvO2S+nxpefOe53m51V6P+2/td9L17arCo8t7bPtx1aV49/x3/171Xo/jv9ujv+O5bbfW/274//wj//GH9u9WobWQqJNMAGw4boubtbx9eZdiFXV0b6PeY7yMz3q7bdur7+oTVnPpqNYZ8f/4XP8rx/Hf3+vcViv5/jv97U2gWACAAAA6M05FQAAAEBPBBMAAABAb8zKAUfgxRdfrE6ePDn5+ZJLLqne8pa3VOsu63zixImZ+48fP16dd955FQAAwGEQTMCKpXB/++23V6dOndq976abbqo++MEPVusswcQdd9wxc39Clcsvv7yCw/KTn/xk8u8FF1xQAdRy3jx27FgF9gUYPsEErNgDDzwwFUrE/fffv/bBBKxKjoevfvWr1eOPP1799Kc/nfrbu9/97urqq6+e3NhO3/nOd6qvfe1rU9+bv/Vbv1X94R/+YcVwZbt/61vfmtza3wsXX3xxddFFF032AQHm8DX3hXwPvPTSS7t/e/3rXz/ZH3J7//vfb3+AARFMQA/SGgG20aOPPlrde++9UxeaTd/97ncntz//8z+vbrnlFhedWyaBVfaPNvvBcKUQmuM9x32XZ555ZnJLmJnC6Mc+9rGK4cnxn32h6/wQ+Vt9nkiAedVVV1U33HDDJLAANptgAlYsY0o8+eSTM/fBtknt15133rnQY1Nj+u/+3b+r/v2///cKpVsgtaJf/OIXq69//esV2+Puu+9eepunMJqQ4tZbb60Yjs9//vOT4GlZec4Pf/jDyf4gnKAtYVeuPZq0wFtfgglYsY985COTi+6nn3560lIi4zPkPtgmGUfinnvuWeYpk+Mm45x89rOfrRiu7BvZzilssj0OWhCNurY8rScYhnTfO+j+kO+OFEAVNmlKaywt8DaLYAJWLDNYfPrTn65gm6V5brvfeKTmIhekqelKN49vf/vbU3/PBedjjz1mzImByoVjBgee13SbYUqokJrM9rbPd8Hv/u7vVm9+85snv+f4L3135Dul/u5g8+VckH0igVPzvn/+z//57kxgqdzJ30v7Q+4XTFBLxcYXvvCFis0imABg5dpNKSOFiptvvnn39/e85z2T5rjtvuaCiWHqGk+C7fD2t799MlZEXXhIwPDhD394phVECptpbdUssEYKHj/4wQ8mhVeGIftDwsoEEdnuGQy57QMf+EDxPFEPkimoItI1sBRgsd4EE7BiDz30UHGMidKsHO3HXnbZZdW11147+Tk1BZnh4+TJk5NuIfWI9VlWbtdff/1kKs9FlJaVabguvfTS6n3ve9/uax5U17o2XyNdWkrrm+flOW35vLrG5sjrPPzwwzP3Z/n5XOhXLjRLNeKl2q3cd9ttt03dlwvQXGDUNahsvq5m/BlpfzweT/qMM3wJHHNs5xhPy8KuQmUKo+1gIhQ8hiff//uFCwmv5g2WynZLRYjxijaTYAJWLEFDu9CcQnkpmGg/NgX0hAS5L7VK7WlH68fklsfcdNNN+05D+uyzz1af+tSnqueee27q/iw7BfzcHnzwwUmNRGotlp1B5L777itOkdp+jQsvvHCyru31zWdTGiAxz7nrrrt2m3Q2pSl4+/3En/3Zn1X0r3QBmZChFDSk9jMXpe0gI+GGVhPDlu2bGlNjimyXRZrfCyW3xyItHlLJUbpPawkOMp4V6+OcClhbdeCQgnepoN+WAv2JEyc6/94VSpReN8HEsgMEZT3vv//+hdY165D1zeOb6tYfpccnMGlLEFJ6PxlgNOEH/Utz67Y04+6SWvM2NejDkgCiWdhM4TTdelKwWOT7g+2SwkaJQey2U2mg3HQFhPZ4VkLNzSKYgDWXwv4y5k3HmBBgv1CilnDi+9//frWoBASl7hSRgKCrG0ae1w5TEiqUHp+WGAlXavm5HWyELhzrpdTcet7FQqmwocn2sKR2M+Fn9oMEEs1acwNh0tbVbL8UYjJsCbpL3XoMfEnGo2p2Ecz5RWC1WXTlgA2RLgzp9vCOd7xj8nNCgFIQkOAh3R7SJaIphfiu4CCPzbgPkTDiG9/4xlQAsJ+ugODKK6+sPvOZz+w2u8y6pUtKlt+UMOX48eNT96W/8Y033jh1X7qVZFrB3KL0mlH/nfVQKmjOa3JbCi1KrS7YbNnOGWsC9pNa0DYzcgxbuu9Fzh9pRZVbxg5oh1TZB9otsNg+aVXV/p5IWGUsks0imIANkBYAKWw3uyYkTEiBv9S9Ia0d2sFEWhuUJOzI2BTt+9LlY9FwoqvVQnsQw6x/Aoe8XnPZpTCl7tLRXnY9RkVX0KILx/pZtsUEQO3uu+8ufoeoIR+29vVDScYkSosr5xPaXTgSXOYmmNgsunLABkgBvVTYTiG8pDRgZWmmi4QHpWXkta677rpqUQkK2rqen9YedeuMpnYrisi6lWbuqMeyaNOFY7h05YDtkyn/SqPrJ5RQGN1e2fbZB1KBYj+g1IWjDi6XHcCdfgkmYAO0Wz/UUshftHVAe8rSyHSkpdGt45prrqkW8dRTTxXHregaUyJK69x18siFR1ter/SaunAADMOjjz5a/cVf/MXM/akl11piuyWoTg35DTfcMOkO1jU4KsPX1YWjDqyMWbRZdOWANZdC/Nl2Tegq9M8LD+rQY7/BMrtG0C8FCvN0vU5CmbS+KHVZadKFY9i6AjRgeDKWQGkg5wx2me6ADF9zEORcw3QVMFNTnlu6dJhSevt0deFgMwkmYM2VujIsqyuY2G/ZixQGlxkk86ASOvzVX/1V52vpwrHeUnPR7oqxbNcMg9zBdshAt6VBUfM9klDCd8F2+NM//dOZ+zJeQJrt59Z27733Vu9+97tNIbtF5nXhYDPpygFbbL/gIa0m1kGClfF43Pn3/E0/ws0yr3llqRWOi00YvoQSGfSw/f2QAkc9vSzbK8FDWkbccsstM3/LeaNZSGXY9uvCwWbSYgK22H7dNM6msJ+ZPZZpfj+v9UZmFJm3rvlbBsNszy7CerjoootmWkh0dQGKZ555ZuY+XTlg2LpCiXTfSCihpQS1jDOS/aG9r6QLkBrz7ZCp55vXFdkndOHYfIIJ2AJdhf79godFBpTqGqciwcRhjPmQGT/2G18iEl5ceeWVnQOF0p+3v/3t1be//e2p+0rhQ63UzSPhBjBMXaFEChu6b1CSsLq9v8wLvBmOr371qzPTgKalRLsFRZSuJ3L9UT82wed73vOeivUgmIAtURrIMlN0JkAoyXgOi7SY6Ao9Tpw40bnsReX1MzVo12u2x5zIY++666616YLCjjS/bcuFQS4q2wWOhGGlC4kUUIDh6QolUvuZZvvQlgCidJ7Q5W87pGVMW2nckS65/qgrR/I9I5hYH8aYgC1RakmQ1gi5laRrxCISAmTa0ba0YDjbcR/uu+++YheONOvtmkZ00fXm6NTNbttS69FWqvFIzVgp3AA2W1co8YEPfEAosWVS2Fx02s/SuSOMLwCbTYsJ2BLp5vDwww/P3J9WBpnR4tprr538njAhgUDpsV0ya0Y7KEhIcOONN1Z33HFHsVVFXufpp5+evFb+3p4CrqsLxzXXXLPbfSQ/t9dTl471lIJGO3TI7wkdrrrqqsnvX/ziF4uDl6nNgOHpCiXynZDzQ2lmjpIbbrhBV48BuOeeeyatIPJ9n1ua2CdoqMcXSiuJ1HK3Z2JoMsYAbDbBBGyJFNQTALS7PyRASHiQWy4ADtJHM8tOq4knn3xyZtkJPfL3LDutK3LBmfsTStTawcW8LhwJQWoZ7DLdUdotM3TpWD/vf//7J7Vc7UJILkZzm8dgZjA8GbyuNDvPsrMrfPjDHxZMDEhaTpSa6u8nLfO0rNsOCa4W7bbzzW9+szjLT9091D6zXgQTsCVSSE8LhnSD6NIMJRICpMC/aHeM1HwlKGgHH9HVXaRLVxeOhBzNATXznnLfnXfeOfU4s3SsnwRTCRgy1/wyTP8FwzRvymBYRs4Ruv5sj7TAXFS6B7UHykwoYX9ZT8aYgC1y/PjxSUF+Pwkl0oLiuuuuqxaVkCDPSfeKs9HVhSPdN0rLzgCbXWNcLBuIsFq5mFim9UMeq7UEAF1SyEyFiwAbNp9gArZMukJ0jfsQGZ8h3SDSMmHZWTXynIwVkeVnOftJF4+0aqiT664uHJEWGV2a3TuasqyzHYCTw5Wg4bOf/ezcWTbqC02hBMB2yHf+Rz/60YVmYErXnfo8ccsttwglYCBG49MqYCtlnId6WtC0eLjiiit2B5paxWtEXiehSG6H/VpsljTlzmBm9bRvubjMgGf6iwNst3pK6ea0oDlH1DdYRMKrdlcOUxGvL2NMwBZL94h6hotNfg02UwIIA08B0JaQGtguWkwAAAAAvTHGBAAAANAbwQQAAADQG8EEAAAA0BvBBAAAANAbwQQAAADQG8EEAAAA0BvBBAAAANAbwQQAAADQG8EEAAAA0BvBBAAAANAbwQQAAADQG8EEAAAA0BvBBAAAANAbwQQAAADQG8EEAAAA0BvBBAAAANAbwQQAAADQG8EEAAAA0BvBBAAAANAbwQQAAADQG8EEAAAA0BvBBAAAANAbwQQAAADQG8EEAAAA0BvBBAAAANAbwQQAAADQG8EEAAAA0BvBBAAAANAbwQQAAADQG8EEAAAA0BvBBAAAANAbwQQAAADQG8EEAAAA0BvBBAAAANAbwQQAAADQG8EEAAAA0BvBBAAAANAbwQQAAADQG8EEAAAA0JtXV3DETp48WT377LPVW97yluryyy+vtsXTTz9dPfXUUxv1vp944onqueeem7pv27YbB/ODH/yguvfee6tl/dZv/Vb1h3/4hxUAwEF89atfrb71rW9N3feBD3yges973lOxvgQTHKlPfvKT1ZNPPrn7+4UXXljddddd1XnnnVcN2e233149/PDDu7/nfd9xxx2TQv46e+SRR6bWOxJKCCbYzw9/+MPqu9/9brWsCy64oAI4depUdezYsQrC/sCi7r777urrX//6zP1XX311xXoTTHBk0lKiGUpEauNT8P3gBz9YDVVaSbQL93nfDz74YHXTTTdVMES5iISz8fnPf7766U9/OnWfGq/hyXdFaja/853vTMLM9jZ//etfX1188cWTQsW73/1u4eWWyP7w2GOPFfeJ7A/ZF97//vfbH9j1k5/8ZFLp98wzz1RsJsEERybdN0pefPHFChiWl156qYKD+uIXv1g9/vjjM/er8RqOBBJpbv21r31t7vdF/pbCad0C61/9q39VffjDH64YpoQR99xzz9x9IgXP3LLv2B+IdB9NKNEOsdgsggkO5MSJE9Wdd965+/ttt91WXXLJJXOfc/z48cmXRtull15aDVm6a6SrSjuA2e/zgk1WajGRms/9um1pqktqvf7iL/6iYthuvfXWSZevZWXfSOHj4x//eMVw5JyRVlLf/va3l3pe/V0hnNheCTgPMqYV60cwwYGka0JzUMRFWj2kQJILkQceeGD3uR/60IeqK6+8shqy+n3fd999k/ed36+99trqmmuuqWCoSrVduXBM01uYJ0E3w5fWLwctTKQ1TZ6fwXLZfAklPvOZzxy4tjvhRPYF+8P26RpPgs0kmGBp6ZLxjW98ozqItJrIbdtksMg//uM/rmBbpNa77c1vfnMF86QLh6a42yHjhWRsibqLRlpU/fZv/3b1rne9a7dlVb5H0rS/tE+kMKIgOgxpKZfQuhRUZQyJjCuT/SOB9ze/+c3i/vDnf/7n9octMm88iczslVYUupRuHsEES8sglgDL0k2DeXTh2D7pjvHpT396ElLklsJnW1pGpNVhuzCaPuUMR7Z/CpIJGCJBdvaPDHLZlDElSt2AEnDl+aV9iOHJ9USpy2hCidzq/YjNMphgIl0JmmMeRGY8qFP3FKbTheDpp5/e7UaQnTo12elKkKb1y8jy0mogYy3kteuDI+MGZCrIZZeZZWT9ml0ksn5pXZAZK+rxCOr30JST+iLrmn/T2qF5IOc1MsbDv/gX/2LyWvtNX5ll3H///TP35772zBNZ5+ZsG6VtFB/5yEcmn1l84QtfmPmiyTpdf/311Tx5X6X1SneJrqkt816yzvm32S0l653bvOcuK9OFLrpu7ce29+P2Otfb8H3ve99S+1w+s8wMkn24Xla2Q9Ypn3c+93q7HMR+n2+OkVLrma5tmc9g3iwmpWMjmscPR6dUoyWYYJ52F44UTLSeGLZs44wrMO+7IY9JjXkGOmTYUqBMQJnzfX4uhQzZVxJi5HqxLdePgontkP0gAVXKQHUg9bGPfcwAyRtuUMFEu2Ccgl8KVinotaepjHyBpcCe2yOPPFJ96lOf2rdgnkJT1/IiBaPcsswUrtLMaL9lZr1LBfL8nr/llsJ7CospRLZfuyuYSEEt4xrMm7Yvf0vBMbe77rpr93Xa8vlmWSnIlpRaUaSA2w4m2tso6u0UORmVXuO6666bO2hePu/SsvN+2hbdhlleCrT54ttvG+6ntG5doUf7sXV4lnUudaFpbsNF97nsG6WQqJ6+td7nDhJMLPP5Zvnt9c3POeGU9oM8vjS17EMPPVR8P9m3hBL9KH3vjMfjSdPt+m/Zzil0ZOo3tlu7C0cuLlNAEUwM3yKBZakbmGkih2mRQU11CySyH6QMlDJU/nUtsfkG3ZUjBZ+6ELSfFOpSQCrNGlFLgSvhRbP2d548LjW8WWZX4SivW6pNb0soEN///verRTVbciwqr5OLhHbh75ZbbuksaB6mvG6ptjzbslQgraVg2pYCfbtg/dRTT0224aKfS/adPH6Rwv6q1K1dFhnXI/tc1jchU1eQk21c+oxLj7vsssuqZSz7+dbr2/58E4r81V/91cwUs1nvhDTNx2Y/L72fPKYUTHE0Sn07M7hZSS4urrrqqur3fu/31HZtoVIXjtSWfvazn60gSv3I850BTVrlbZ+MK5JyVPPaYdmyD+vjnGrA6mBiUSn8pUVCl65QIgXAugtHWwpNeV7XrBWLhBK1FBQXmf2iloJ8qXCa++bVhKfmeZnXOUxZt1JheF6hPIXXUmDTnvUij0vrh9IXVr0NS59XXXju6zPJPllqcdEl69vVsqWrm0SXZcKow/x887jc15bHJHRpas7y0pSWP2fTFYWDW7aWO49PwTQ1HqVBMxm2dheOhBIJqwxcRjz66KOTWTiasn8Y6HB7ZUDUttSWC7a3U3u7O3dsrq0Z/DKF1BR4U4uaQkwKZ+3a2EiXjlK/93qqx7abb755suw6pa0LWc1lpzCVgmK7i0Rq+btaXyRUeMc73jH5OYXDZQqmtRTu0gUi7zWtBzIGwRVXXLFbWEsB8ktf+lKxoNpe39Q81+NTdI0T0W5WOa/rxTz5PNsF4oRG+RxLyyyFFtnO7WAi77P9eWd5KQw1pyxNEJAa/GZBuS7s7zfWxarV23G//TifV2ldu0KJfA7Z57INs43rrhbL6Pp8s29kP6wt+vnmveZ57ZAlz8/7y9/njS1iOtb+HDTES0CRQmq79oPhanfhSIEzwQTb5zvf+c7k3xQqch5KK4nc6lk7atlHEoJrzr+dEl63g6owFTVsvq0IJkrjJqRQc+ONN85cQKcpekmpkJaCXLPAFSn0J5ho1/amVre9Dl0FvxTamuMPZEDDvFbWd1l53oc+9KFi87bcl88mhbx2ENBuaZL1qQuCpWAioc9hDRSZYCi14u1t09Wdo9SNo93qIutd+rzT1aYZStSvn4uidmuWrsL+USntx1n33Nf+rLpaCnW1PCl1N8r2XLRFT9fn2w4log7+cmHZlO3Yfn9dXTqyXtlH0sWoTReO/iXgOujAhXlOpvlSOB2+zKrQ7sLR/l5gO9Sh5H4y9kgGuBNcbq9Sl+ucbwx6CJtv8MFE14wOCRBS89yujS21YGjPKlDrGvMgBbq0dmh2L0jBMYXFuvCX30vN5LtmasjzSrXH+1mk1UKW3V6XvrotRNa5tG1SqG5/5l3dONqPKw3OmdfpqlXP/e0uLfNabaxa137cbBXTlPXMPtvsylCvf1vXAJG5P2HBIt05uoKQdihRSziRdW+3mmh/vnWXjnbQV7dMKm17XTgO3yKDkaWwkJHzI6FnRtpPc9uEfGlynbCiLkykEJLa0UznVQovMvp+19SBDEP2i3YBo+7CAW3ZL5rfMWynu+++uzjeiCB78y17ncEwDXqMiWjXhjctOphhqdC13zgNmb5x3nK6CnKlbiS1w2qRkEJdfUthdR0HiSl9DqWCdakFQD0dZVPp895vtobSiN+LDnx62Oat66KF8K59bt6goovuc12zssxTd1VqKn2+dZeOttL70YVjNRIe7HcrfY+kBisBQ7vvb127lfCiPUd9ZFmpTWe4dOFgGdlX0lIuBZN8bxiLZvvkO+PrX//6zP353tBaYvMd9DqDYRl8i4l5haNFR+8t9eFPATm1+gfV1SJhXiHzINMe5nXqWu8U5PoqWC8r2y3vt134bHfnKHXjKBW0S4XYFKaX3YZ9tSSZNzvGogFb17rP268W3edW/fl2delo0oVjM+WistSE2zSRm2PZmq60lmkXMHTh2HxnW+PZrAzIuaA0gF3uy/gCGXciXflMGbq+DrMGPKFEu9tXJJAQaMJwDD6YOIypg1aR0HUVwA6zm0DGtcignZuaMKa1S7vA2+zOkfFASk35S2FUn11TDsNh7Belz2C/1hZ9dFsp6erS0aQLx2Yy7/jmWyREqs9DqenOnPNNunAMwzL7QVu2/5/+6Z9O3ZcQIs320yWsPQuDgXLX39nsD03zQokMQA8Mx9bMyrEp5gUpi9aMRy78FhmPIgW5nBjWseCeAKI9dkJznIfSYItpxl8qnG5686/DCAg2/TOY11oiNj18WmeL1EgJGFhE17giub+t9J31rW99a/f56QZkysjhSuCQbZxbfs7YM031WDX6nA+XUGJ7uM4gBBMHlJBg2WbqizSLz4VYVyF00YJXCu+lUKKeErJdeE+riq5pJPuU9U0Xhvbgi3V3jtL4El1jdJQCn2yPeWOQlCwTDh2mw2j5c9StCQ7z8+2aFrQpf8/r9bWNhmyVTWVLA5mFJtrD1J76MUqhRJcEE7lF9kvBxHbIWDXtYCKyPwkmhkkosV10ySEEEwsoFQrH4/FZ9WfvCh9SAOsqQO5XY1w7ceJE8f704T2sATSPSj7jdvP9BBIpgLbHy0iBtKsgnMFI290+tm1MgtI+V5oJo2nRMCyfZTtAyjIP6/NN6LDf+ChZ14zyX5pKjKOV6T5TWNgvXEgQ227WXysNisl6UtNFrHI/6OrqYzC89XU2+0NXKJFlKsDCcAkmFlBq6bBfge4gy4wU7rrCg0UHruyagaJruV2zNayDrHN7Wsmsb2kWiHkDRJY+7z6n/+xDV+CVz7Nr3yi1Sikpfb5Z7mF8vhngtKvbTvv+bNOMrTJvphFWLzXa99577+Sis25un4JF3Rc8fcfTBDs1oKVm/UZY3ywKCsQq94N8X5QcRmtCVuOg+8Ojjz4qlIAtJZhYQLoH3HXXXTO1x6nFvemmm6qDSA1zu8AdKVRlasRSYS5/O2xphXEYwcQqay3yeTSb8eczKxWY59XOlwrOWc7ZbMNN0xU+5DMo/S37RikAKklLlTvvvHPqvsP4fLu6cOT4+fSnPz35e7ulhi4d6yPdNHIrNcHukvDCxedw/e7v/u7C54tvfvObMzMzJOiqW+JohbG5sg8kwFw0hEwrrJKLLrqoYjgSSrSvJUIoAdtBMLGAhAQp6LRrZxMU5G8Za6JUCKqn6kwhOoXmduEvz2uPBVE3R7/xxht3l5n7Mg5EuwDWpdSsPq0tUohrrmeWm+4dy0wh2lX7nfV7xzvesbv8LPMv//Ivqw996EPV2crn1i6ctsOUPGbeGAr5e2m8inobZkaHkryPbMM87j/+x/+40bM+dI3ZkfAh+0Fzn8t9uThYdN/I887m882xlaChfYx0deGou2t85jOfmax3M+DTpWOzZfo4MzQM10c/+tGFH5ta8nYwkYKsFjWbL9s13bgyvkjCpgRWOe6bYVPCiwSbeUxpbJIwxshwdIUSaRWT2Xw+//nP77uMPDbnEGAzCSYWlFrfBAztFg4pkOfWLBjXIcB+hbq0xCgNUpkxInJrLm8ZXa0DUjhMwFK31Ejhc9mWDnlu1qu9TgkKsvycFJrLPKxgol3obb9+mvXvJ4MlpRDblu33pS99aTIOxbLbcNNce+21xYCr3ufa228ZpZAgDvr5dnXhSDeNejn5t92iJnTp2DxpKZF9yNgSsD3Slevxxx+f3JaVATGFmMNRCiUi1ySL7h/ZHwQTsLnOqVhICuSpge1qMZCCUApRueXnRQq0KXCnUNUly2guZ9GBK1NI71rPhCtZx/xbF0DrsGJR80KAVXXp6JptI+oWLftJYNPVrSDrfZBtuGmy7eaNxdHefssMlpqQ4LA+33ldONphQ1ojlcK4PH/RAWM5XB//+McnNeOLNLVPjWea6Kb2VCgBLCLfLcu0vgFg/WkxsYQUfhJOpNn7YRV4UqhKDfZ+4zykgJiuH4v0+U9BPQXE22+/fd/HZrmppUyN9qJThtZTdR7loJkpUGf9SrNELBOs1LXtGTNkWwutt91222T/2O/9Z99McJaWMIvOzpHtlFYXZ/v5dnXhyLqUutPk/bRnb9Gloz+ptUptZm6R5thpul0PdJnWEXlMxgqoB8QEWES+V4w3AHTJ9UVmdmHzCCaWlHAihabU+qap+LzCed2nP4XhrprnPCaFuDR3f+SRR2YKc/l7np8CWZq2LyoFxBTg0jSutI7N5UZaJCwaTOS5KdxmnUtN7evHLNKKYVH1Z1ka9HKRbhxNea/pVpCuC1n//bZh3kf9eQ5B3lO2dbZfuhK1Q4d6ms+6NU+pq8Q89edbd6dY9POtj5F5s3B0beu69VG7a5QuHevBIIVAUwoOqeTJAJgZSyTh5TwJMN/73vdOpiHWsgpgmEbj0yoOLE3Un3rqqUnhri7gpbl5bgcpyNZTWOaWwl2ziXoKbO3a3xTsSuNUNKXmuV7HPD7r1jVd6bLq918HKll+cyyBTdB+D3E223DTZJ+r33t7nzsMh32MADAsaVGVAQ6bLasiAUZ9A2DYBBMbJDXc7ZrrFCLT4gIAAAA2kcEvN0hpfInSNKUAAACwKQQTPUrf+64xINrST740zeNhjuMAAAAAR83glz1Kf/sEDrmlr326ZeSWn+uWEOn7n4EAS6FEHrPMdI4AAACwbgQTayIDVOZWmnWiS9fUiQAAALApdOXYUDfffPPS02QCAADAuhFM9CitHS677LKlnpOuG5mF47rrrqsAAABg05kudA2cOnWqeuqppyaDYGbciXTpaKrHn7jiiiuqY8eOVQAAADAUggkAAACgN7pyAAAAAL0RTAAAAAC9EUwAAAAAvRFMAAAAAL0RTAAAAAC9EUwAAAAAvRFMAAAAAL0RTAAAAAC9EUwAAAAAvRFMAAAAAL0RTAAAAAC9EUwAAAAAvRFMAAAAAL0RTAAAAAC9EUwAAAAAvRFMAAAAAL0RTAAAAAC9EUwAAAAAvRFMAAAAAL0RTAAAAAC9EUwAAAAAvRFMAAAAAL0RTAAAAAC9EUwAAAAAvRFMAAAAAL0RTAAAAAC9EUwAAAAAvRFMAAAAAL0RTAAAAAC9EUwAAAAAvRFMAAAAAL0RTAAAAAC9EUwAAAAAvRFMAAAAAL0RTAAAAAC9EUwAAAAAvRFMAAAAAL0RTAAAAAC9EUwAAAAAvRFMAAAAAL0RTAAAAAC9EUwAAAAAvRFMAAAAAL0RTAAAAAC9EUwAAAAAvRFMAAAAAL0RTAAAAAC9EUwAAAAAvRFMAAAAAL0RTAAAAAC9EUwAAAAAvRFMAAAAAL0RTAAAAAC9EUwAAAAAvRFMAAAAAL0RTAAAAAC9+Z9mwqsy1WyuLgAAAABJRU5ErkJggg==)"
      ]
    },
    {
      "cell_type": "code",
      "metadata": {
        "id": "jN7gbH-R7A3q",
        "colab": {
          "base_uri": "https://localhost:8080/",
          "height": 34
        },
        "outputId": "c1ecafa3-6dcc-4b34-a67c-7dc965d591b5"
      },
      "source": [
        "print(ls[1])"
      ],
      "execution_count": null,
      "outputs": [
        {
          "output_type": "stream",
          "text": [
            "4\n"
          ],
          "name": "stdout"
        }
      ]
    },
    {
      "cell_type": "code",
      "metadata": {
        "id": "DTmelgiw8g5h",
        "colab": {
          "base_uri": "https://localhost:8080/",
          "height": 34
        },
        "outputId": "a19cce22-86ce-488a-85ee-09e14ce12660"
      },
      "source": [
        "ls = [2,4,6,8,10,12,14,16]\n",
        "print(ls[:5])"
      ],
      "execution_count": null,
      "outputs": [
        {
          "output_type": "stream",
          "text": [
            "[2, 4, 6, 8, 10]\n"
          ],
          "name": "stdout"
        }
      ]
    },
    {
      "cell_type": "code",
      "metadata": {
        "id": "6TjvKgqF8sMv",
        "colab": {
          "base_uri": "https://localhost:8080/",
          "height": 34
        },
        "outputId": "e9836c35-1496-4c6e-df9c-3e0ca49586c5"
      },
      "source": [
        "print(ls[2:4])"
      ],
      "execution_count": null,
      "outputs": [
        {
          "output_type": "stream",
          "text": [
            "[6, 8]\n"
          ],
          "name": "stdout"
        }
      ]
    },
    {
      "cell_type": "code",
      "metadata": {
        "id": "Om1hxKMD1Omw",
        "colab": {
          "base_uri": "https://localhost:8080/",
          "height": 33
        },
        "outputId": "484a79a1-23d6-4c37-d598-30ee5bcee794"
      },
      "source": [
        "print(\"ls[3] - ls[1] = \",ls[3]-ls[1])"
      ],
      "execution_count": null,
      "outputs": [
        {
          "output_type": "stream",
          "text": [
            "ls[3] - ls[1] =  2\n"
          ],
          "name": "stdout"
        }
      ]
    },
    {
      "cell_type": "code",
      "metadata": {
        "id": "Ji0BjRtX7KBZ",
        "colab": {
          "base_uri": "https://localhost:8080/",
          "height": 50
        },
        "outputId": "74095f82-109b-4453-9ffa-5c71a89ef9db"
      },
      "source": [
        "text = [\"nut\",\"yoyo\",\"oat\",\"siri\"]\n",
        "print(text)\n",
        "text[2] = \"tiger\"\n",
        "print(text)"
      ],
      "execution_count": null,
      "outputs": [
        {
          "output_type": "stream",
          "text": [
            "['nut', 'yoyo', 'oat', 'siri']\n",
            "['nut', 'yoyo', 'tiger', 'siri']\n"
          ],
          "name": "stdout"
        }
      ]
    },
    {
      "cell_type": "markdown",
      "metadata": {
        "id": "y2H-de20S-fv"
      },
      "source": [
        "##Negative Indexing\n",
        "```\n",
        "จะเริ่มมองไปที่indexสุดท้าย โดยเริ่มนับด้วย-1,-2,...\n",
        "```"
      ]
    },
    {
      "cell_type": "code",
      "metadata": {
        "id": "OMVkq0Jo8NmS",
        "colab": {
          "base_uri": "https://localhost:8080/"
        },
        "outputId": "b528d1ea-e339-491f-b5ff-0d9dc3af7d3a"
      },
      "source": [
        "number=[10 ,20 ,30 ,40 ,50 ,60]\n",
        "print(number[-1])\n",
        "print(number[-3])"
      ],
      "execution_count": null,
      "outputs": [
        {
          "output_type": "stream",
          "text": [
            "60\n",
            "40\n"
          ],
          "name": "stdout"
        }
      ]
    },
    {
      "cell_type": "code",
      "metadata": {
        "id": "efDWjgFhOg74",
        "colab": {
          "base_uri": "https://localhost:8080/"
        },
        "outputId": "953098da-98c2-45a1-f182-a1c77f3ed07a"
      },
      "source": [
        "print(number[-4:-1]) # ls[-4], ls[-3], ls[-2]"
      ],
      "execution_count": null,
      "outputs": [
        {
          "output_type": "stream",
          "text": [
            "[30, 40, 50]\n"
          ],
          "name": "stdout"
        }
      ]
    },
    {
      "cell_type": "markdown",
      "metadata": {
        "id": "EOOjuGekwPRa"
      },
      "source": [
        "##Python List Methods"
      ]
    },
    {
      "cell_type": "markdown",
      "metadata": {
        "id": "up2rvBWRwnFo"
      },
      "source": [
        "\n",
        "\n",
        "```\n",
        "Method\tDescription\n",
        "append()\tAdds an element at the end of the list\n",
        "clear()\tRemoves all the elements from the list\n",
        "copy()\tReturns a copy of the list\n",
        "count()\tReturns the number of elements with the specified value\n",
        "extend()\tAdd the elements of a list (or any iterable), to the end of the current list\n",
        "index()\tReturns the index of the first element with the specified value\n",
        "insert()\tAdds an element at the specified position\n",
        "pop()\tRemoves the element at the specified position\n",
        "remove()\tRemoves the first item with the specified value\n",
        "reverse()\tReverses the order of the list\n",
        "sort()\tSorts the list\n",
        "```\n",
        "https://www.w3schools.com/python/python_ref_list.asp\n"
      ]
    },
    {
      "cell_type": "code",
      "metadata": {
        "id": "_nnBEyrNxkKx",
        "colab": {
          "base_uri": "https://localhost:8080/"
        },
        "outputId": "ea821823-7944-4c13-be2c-06522aa6c3fa"
      },
      "source": [
        "ls = []\n",
        "ls.append(1)\n",
        "ls.append(2)\n",
        "ls.append(3)\n",
        "ls.append(4)\n",
        "print(ls)"
      ],
      "execution_count": null,
      "outputs": [
        {
          "output_type": "stream",
          "text": [
            "[1, 2, 3, 4]\n"
          ],
          "name": "stdout"
        }
      ]
    },
    {
      "cell_type": "code",
      "metadata": {
        "id": "0JCpmniCyYl7",
        "colab": {
          "base_uri": "https://localhost:8080/"
        },
        "outputId": "da40608c-9e01-4048-ad40-ce204e84efec"
      },
      "source": [
        "text = []\n",
        "text.append(\"James\")\n",
        "text.append(\"Nut\")\n",
        "text.append(\"Boom\")\n",
        "text.append(\"annda\")\n",
        "print(text)"
      ],
      "execution_count": null,
      "outputs": [
        {
          "output_type": "stream",
          "text": [
            "['James', 'Nut', 'Boom', 'annda']\n"
          ],
          "name": "stdout"
        }
      ]
    },
    {
      "cell_type": "code",
      "metadata": {
        "id": "sWvalvjx4jl1",
        "colab": {
          "base_uri": "https://localhost:8080/"
        },
        "outputId": "65a0fdcd-6556-49ec-9c94-fbd045a2054b"
      },
      "source": [
        "num = [10 ,20, 30, 40, 50]\n",
        "num.insert(2,\"A\") # แทรกข้อมูลไปใน index ที่ต้องการ\n",
        "print(num)"
      ],
      "execution_count": null,
      "outputs": [
        {
          "output_type": "stream",
          "text": [
            "[10, 20, 'A', 30, 40, 50]\n"
          ],
          "name": "stdout"
        }
      ]
    },
    {
      "cell_type": "code",
      "metadata": {
        "id": "NQM8-zYLRv_8",
        "colab": {
          "base_uri": "https://localhost:8080/"
        },
        "outputId": "2232e223-16a8-4685-ed82-ec89279f9dba"
      },
      "source": [
        "num.remove(\"A\") # นำ ข้อมูลที่ต้องการใน list ออก \n",
        "### Syntax : list.remove(elmnt)\n",
        "print(num)"
      ],
      "execution_count": null,
      "outputs": [
        {
          "output_type": "stream",
          "text": [
            "[10, 20, 30, 40, 50]\n"
          ],
          "name": "stdout"
        }
      ]
    },
    {
      "cell_type": "code",
      "metadata": {
        "id": "017FKgY_R0Ui"
      },
      "source": [
        ""
      ],
      "execution_count": null,
      "outputs": []
    },
    {
      "cell_type": "markdown",
      "metadata": {
        "id": "okVHFHflKGxJ"
      },
      "source": [
        "##using with loop"
      ]
    },
    {
      "cell_type": "code",
      "metadata": {
        "id": "mWMeh8YzKOCf",
        "colab": {
          "base_uri": "https://localhost:8080/"
        },
        "outputId": "76aa2158-6812-437d-f5d8-7502e713dddf"
      },
      "source": [
        "name = [\"Yoyo\",\"Poom\",\"Kris\",\"Toon\"]\n",
        "count =0\n",
        "for i in (name):\n",
        "  print(i)"
      ],
      "execution_count": null,
      "outputs": [
        {
          "output_type": "stream",
          "text": [
            "Yoyo\n",
            "Poom\n",
            "Kris\n",
            "Toon\n"
          ],
          "name": "stdout"
        }
      ]
    },
    {
      "cell_type": "code",
      "metadata": {
        "id": "-8TBpesgAOb8",
        "colab": {
          "base_uri": "https://localhost:8080/"
        },
        "outputId": "977b1385-902d-43e0-af2b-1ea819a4b3e6"
      },
      "source": [
        "number = [1, 2, 4, 8, 16, 32, 64, 128]\n",
        "for i in (number):\n",
        "  print(i)"
      ],
      "execution_count": null,
      "outputs": [
        {
          "output_type": "stream",
          "text": [
            "1\n",
            "2\n",
            "4\n",
            "8\n",
            "16\n",
            "32\n",
            "64\n",
            "128\n"
          ],
          "name": "stdout"
        }
      ]
    },
    {
      "cell_type": "code",
      "metadata": {
        "id": "1BCtd4FMzRsp",
        "colab": {
          "base_uri": "https://localhost:8080/"
        },
        "outputId": "0643b703-fc04-43ab-ea48-678fe445871d"
      },
      "source": [
        "number=[]\n",
        "for i in range(1,11):\n",
        "  number.append(i)\n",
        "print(number)"
      ],
      "execution_count": null,
      "outputs": [
        {
          "output_type": "stream",
          "text": [
            "[1, 2, 3, 4, 5, 6, 7, 8, 9, 10]\n"
          ],
          "name": "stdout"
        }
      ]
    },
    {
      "cell_type": "code",
      "metadata": {
        "id": "rkMyxSNDz2sK",
        "colab": {
          "base_uri": "https://localhost:8080/"
        },
        "outputId": "9e0b86ea-ea86-46b5-ee8e-78be3c70b489"
      },
      "source": [
        "oldname = [\"kris\",\"david\",\"Fah\",\"tiger\"]\n",
        "\n",
        "new_name=[]\n",
        "for i in oldname:\n",
        "  new_name.append(i.upper())\n",
        "print(new_name)\n"
      ],
      "execution_count": null,
      "outputs": [
        {
          "output_type": "stream",
          "text": [
            "['KRIS', 'DAVID', 'FAH', 'TIGER']\n"
          ],
          "name": "stdout"
        }
      ]
    },
    {
      "cell_type": "markdown",
      "metadata": {
        "id": "5qkxKMozJhYr"
      },
      "source": [
        "# #Function"
      ]
    },
    {
      "cell_type": "code",
      "metadata": {
        "id": "UIa_2iUaJ_rV"
      },
      "source": [
        "##  def function_name(parameters):\n",
        "##\t  statement(s)\n",
        "\n",
        "\n",
        "def fn():\n",
        "  print(\"fn1\")\n"
      ],
      "execution_count": null,
      "outputs": []
    },
    {
      "cell_type": "markdown",
      "metadata": {
        "id": "-TTA1fqtW1KP"
      },
      "source": [
        "```\n",
        "เมื่อเราสร้างฟังก์ชันไว้ แต่ไม่มีกาเรียกฟังก์ชัน ฟังก์ชันจะไม่ทำงาน\n",
        "```"
      ]
    },
    {
      "cell_type": "markdown",
      "metadata": {
        "id": "c0Z-falYWA8t"
      },
      "source": [
        "##Calling a Function\n"
      ]
    },
    {
      "cell_type": "code",
      "metadata": {
        "id": "U-ISWbZqV_ji",
        "colab": {
          "base_uri": "https://localhost:8080/",
          "height": 34
        },
        "outputId": "9f4e63df-cb35-4af0-f0e2-57ff32283a2e"
      },
      "source": [
        "def my_function():\n",
        "  print(\"My_Function\")\n",
        "my_function()"
      ],
      "execution_count": null,
      "outputs": [
        {
          "output_type": "stream",
          "text": [
            "My_Function\n"
          ],
          "name": "stdout"
        }
      ]
    },
    {
      "cell_type": "code",
      "metadata": {
        "id": "uKF9gT4gVBf9",
        "colab": {
          "base_uri": "https://localhost:8080/",
          "height": 34
        },
        "outputId": "c1199913-217e-43b5-8ad7-b09ebdbca573"
      },
      "source": [
        "def add(x):\n",
        "  x+=5\n",
        "  print(\"x =\",x)\n",
        "add(10) \n"
      ],
      "execution_count": null,
      "outputs": [
        {
          "output_type": "stream",
          "text": [
            "x = 15\n"
          ],
          "name": "stdout"
        }
      ]
    },
    {
      "cell_type": "markdown",
      "metadata": {
        "id": "sppfYBRc0s4i"
      },
      "source": [
        "##Parameters and Arguments"
      ]
    },
    {
      "cell_type": "markdown",
      "metadata": {
        "id": "F6gDe5_pDg3S"
      },
      "source": [
        "ฟังก์ชันที่ยังไม่มี Parameters"
      ]
    },
    {
      "cell_type": "code",
      "metadata": {
        "id": "XDrD_j9tXLpG",
        "colab": {
          "base_uri": "https://localhost:8080/",
          "height": 68
        },
        "outputId": "595a664d-f9e9-4ca6-fef5-9c503942437c"
      },
      "source": [
        "def Text():\n",
        "  print(\"Somchi\")\n",
        "  print(\"Tanakorn\")\n",
        "  print(\"karntar\")\n",
        "Text()\n"
      ],
      "execution_count": null,
      "outputs": [
        {
          "output_type": "stream",
          "text": [
            "Somchi\n",
            "Tanakorn\n",
            "karntar\n"
          ],
          "name": "stdout"
        }
      ]
    },
    {
      "cell_type": "markdown",
      "metadata": {
        "id": "8nJF12dk1PzX"
      },
      "source": [
        "\n",
        "`Parameter คือ ตัวแปรที่ประกาศไว้อยู่ข้างในวงเล็บหลังชื่อ function และมีหน้าที่คือรอรับค่า argument`"
      ]
    },
    {
      "cell_type": "code",
      "metadata": {
        "id": "wr_6HxhFCW3P",
        "colab": {
          "base_uri": "https://localhost:8080/",
          "height": 34
        },
        "outputId": "faf17715-0c2e-4fce-ba17-0d074400ff18"
      },
      "source": [
        "def addition(x):  # x is parameters\n",
        "    x +=5\n",
        "    print(\" x + 5 = \",x)\n",
        "addition(10)"
      ],
      "execution_count": null,
      "outputs": [
        {
          "output_type": "stream",
          "text": [
            " x + 5 =  15\n"
          ],
          "name": "stdout"
        }
      ]
    },
    {
      "cell_type": "markdown",
      "metadata": {
        "id": "gzW8UL3T1yFN"
      },
      "source": [
        "`Argument คือ ตัวแปรหรือค่าคงที่ที่ใช้สำหรับส่งค่าไปยัง parameter`"
      ]
    },
    {
      "cell_type": "code",
      "metadata": {
        "id": "9cZmNPyyAkLD",
        "colab": {
          "base_uri": "https://localhost:8080/",
          "height": 34
        },
        "outputId": "5c92e1d6-e267-4b07-d549-6b72f94db0cd"
      },
      "source": [
        "def callname(name):#<---- parameters\n",
        "  print(name)\n",
        "callname(\"Anna\") #<----Arguments"
      ],
      "execution_count": null,
      "outputs": [
        {
          "output_type": "stream",
          "text": [
            "Anna\n"
          ],
          "name": "stdout"
        }
      ]
    },
    {
      "cell_type": "markdown",
      "metadata": {
        "id": "tlPlPDht0t2J"
      },
      "source": [
        "##Number of Arguments"
      ]
    },
    {
      "cell_type": "code",
      "metadata": {
        "id": "USLHa4ty1Obu"
      },
      "source": [
        "def addition(x,y):  #x,y are parameters\n",
        "    return x + y"
      ],
      "execution_count": null,
      "outputs": []
    },
    {
      "cell_type": "code",
      "metadata": {
        "id": "xpGHDzKU1cKR",
        "colab": {
          "base_uri": "https://localhost:8080/",
          "height": 51
        },
        "outputId": "6f0632ff-fe9e-43ff-ce82-519b0e01edf3"
      },
      "source": [
        "print(addition(2,3))  #2 และ 3 คือ argument ที่จะส่งค่าไปยัง parameter x และ y ตามfunction ที่ระบุไว้"
      ],
      "execution_count": null,
      "outputs": [
        {
          "output_type": "stream",
          "text": [
            "5\n",
            "<class 'int'>\n"
          ],
          "name": "stdout"
        }
      ]
    },
    {
      "cell_type": "markdown",
      "metadata": {
        "id": "XdNshb9G3tCd"
      },
      "source": [
        "##The return statement\n",
        "\n",
        "\n",
        "```\n",
        "def function_name(parameters):\n",
        "\t  statement(s)\n",
        "    return [expression_list]\n",
        "\n",
        "```\n",
        "\n"
      ]
    },
    {
      "cell_type": "code",
      "metadata": {
        "id": "_17esUbTFCGR"
      },
      "source": [
        "def square(x):\n",
        "    return x*x"
      ],
      "execution_count": null,
      "outputs": []
    },
    {
      "cell_type": "code",
      "metadata": {
        "id": "eDg7pY7VFAQj",
        "colab": {
          "base_uri": "https://localhost:8080/",
          "height": 221
        },
        "outputId": "4944dbed-40e4-4440-886d-7381d2d52f23"
      },
      "source": [
        "square(4)\n",
        "print(\"x = 4\")\n",
        "print(\"x^2 = \" ,square(4) )\n",
        "print(\"\")\n",
        "x = 5\n",
        "print(\"x =\",x)\n",
        "print(\"x^2 = \", square(x) )\n",
        "print(\"\")\n",
        "n = 9\n",
        "print(\"n =\",n)\n",
        "print(\"n^2 = \", square(n) )\n",
        "print(\"\")\n",
        "y = square(x)\n",
        "print(\"y^2 =\",y)\n",
        "print(\"\")\n",
        "print(\"x^2 + y^2 = \" ,square(x) + square(n) )"
      ],
      "execution_count": null,
      "outputs": [
        {
          "output_type": "stream",
          "text": [
            "x = 4\n",
            "x^2 =  16\n",
            "\n",
            "x = 5\n",
            "x^2 =  25\n",
            "\n",
            "n = 9\n",
            "n^2 =  81\n",
            "\n",
            "y^2 = 25\n",
            "\n",
            "x^2 + y^2 =  106\n"
          ],
          "name": "stdout"
        }
      ]
    },
    {
      "cell_type": "code",
      "metadata": {
        "id": "_URQMrI6GSHt"
      },
      "source": [
        ""
      ],
      "execution_count": null,
      "outputs": []
    },
    {
      "cell_type": "markdown",
      "metadata": {
        "id": "YfGHm-FNrJU9"
      },
      "source": [
        "**lambda**"
      ]
    },
    {
      "cell_type": "markdown",
      "metadata": {
        "id": "iGx2cCk5rQjT"
      },
      "source": [
        "`credit: https://python3.wannaphong.com/2015/04/lambda-python.html`"
      ]
    },
    {
      "cell_type": "markdown",
      "metadata": {
        "id": "ZrHhsmwTq9Kn"
      },
      "source": [
        "\n",
        "```\n",
        "def <lambda>(arguments):\n",
        "  return expression\n",
        "---------------------------\n",
        "lambda arguments: expression\n",
        "\n",
        "\n",
        "```\n",
        "\n",
        "\n"
      ]
    },
    {
      "cell_type": "code",
      "metadata": {
        "colab": {
          "base_uri": "https://localhost:8080/"
        },
        "id": "ftb13-d5q99H",
        "outputId": "69fd317a-93d7-4cb5-c4b7-0bdff81e93b0"
      },
      "source": [
        "a = lambda x,n: x * n\n",
        "a(9,8)"
      ],
      "execution_count": null,
      "outputs": [
        {
          "output_type": "execute_result",
          "data": {
            "text/plain": [
              "72"
            ]
          },
          "metadata": {},
          "execution_count": 1
        }
      ]
    },
    {
      "cell_type": "code",
      "metadata": {
        "colab": {
          "base_uri": "https://localhost:8080/"
        },
        "id": "0AGLwNNHrGve",
        "outputId": "371531ce-fa6c-4451-c763-26ac2491f3f4"
      },
      "source": [
        "x = lambda: 5*2\n",
        "y = x()\n",
        "print(y)"
      ],
      "execution_count": null,
      "outputs": [
        {
          "output_type": "stream",
          "name": "stdout",
          "text": [
            "10\n"
          ]
        }
      ]
    },
    {
      "cell_type": "code",
      "metadata": {
        "colab": {
          "base_uri": "https://localhost:8080/",
          "height": 128
        },
        "id": "P_vmzFJTs-33",
        "outputId": "c9302721-910a-4206-9ff0-bf6b591f938e"
      },
      "source": [
        "while True:\n",
        "    n = int(input(())\n",
        "    if (n == 0):\n",
        "        break"
      ],
      "execution_count": null,
      "outputs": [
        {
          "output_type": "error",
          "ename": "SyntaxError",
          "evalue": "ignored",
          "traceback": [
            "\u001b[0;36m  File \u001b[0;32m\"<ipython-input-1-1e2a5d616d64>\"\u001b[0;36m, line \u001b[0;32m3\u001b[0m\n\u001b[0;31m    if (n == 0):\u001b[0m\n\u001b[0m               ^\u001b[0m\n\u001b[0;31mSyntaxError\u001b[0m\u001b[0;31m:\u001b[0m invalid syntax\n"
          ]
        }
      ]
    }
  ]
}